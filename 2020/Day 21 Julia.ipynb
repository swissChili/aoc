{
 "cells": [
  {
   "cell_type": "code",
   "execution_count": 51,
   "metadata": {},
   "outputs": [
    {
     "data": {
      "text/plain": [
       "get_input (generic function with 1 method)"
      ]
     },
     "execution_count": 51,
     "metadata": {},
     "output_type": "execute_result"
    }
   ],
   "source": [
    "using Pipe\n",
    "\n",
    "get_input(file) = @pipe read(file, String) |> split(_, \"\\n\") |> match.(r\"([a-z ]+) \\(contains ([a-z, ]+)\\)\", _) |>\n",
    "    map(m -> (split(m[1], \" \"), strip.(split(m[2], \",\"))), _)"
   ]
  },
  {
   "cell_type": "code",
   "execution_count": 52,
   "metadata": {},
   "outputs": [
    {
     "data": {
      "text/plain": [
       "4-element Array{Tuple{Array{SubString{String},1},Array{SubString{String},1}},1}:\n",
       " ([\"mxmxvkd\", \"kfcds\", \"sqjhc\", \"nhms\"], [\"dairy\", \"fish\"])\n",
       " ([\"trh\", \"fvjkl\", \"sbzzf\", \"mxmxvkd\"], [\"dairy\"])\n",
       " ([\"sqjhc\", \"fvjkl\"], [\"soy\"])\n",
       " ([\"sqjhc\", \"mxmxvkd\", \"sbzzf\"], [\"fish\"])"
      ]
     },
     "execution_count": 52,
     "metadata": {},
     "output_type": "execute_result"
    }
   ],
   "source": [
    "input = get_input(\"21-t.dat\")"
   ]
  },
  {
   "cell_type": "code",
   "execution_count": 53,
   "metadata": {},
   "outputs": [
    {
     "data": {
      "text/plain": [
       "getings (generic function with 1 method)"
      ]
     },
     "execution_count": 53,
     "metadata": {},
     "output_type": "execute_result"
    }
   ],
   "source": [
    "getings(x) = @pipe x |> collect |> first.(_) |> vcat(_...) |> Set"
   ]
  },
  {
   "cell_type": "code",
   "execution_count": 69,
   "metadata": {},
   "outputs": [
    {
     "data": {
      "text/plain": [
       "find_safe (generic function with 1 method)"
      ]
     },
     "execution_count": 69,
     "metadata": {},
     "output_type": "execute_result"
    }
   ],
   "source": [
    "function find_mappings(input)\n",
    "    p = Dict()\n",
    "    \n",
    "    for (ings, all) in input\n",
    "        for a in all\n",
    "            p[a] = haskey(p, a) ? intersect(p[a], Set(ings)) : Set(ings)\n",
    "        end\n",
    "    end\n",
    "    \n",
    "    p\n",
    "end\n",
    "\n",
    "function find_allergens(input)\n",
    "    m = find_mappings(input)\n",
    "    ings = Dict(k => [] for k in getings(input))\n",
    "\n",
    "    for (k, v) in m\n",
    "        for ing in v\n",
    "            push!(ings[ing], k)\n",
    "        end\n",
    "    end\n",
    "    \n",
    "    used, final = Set(), Dict()\n",
    "    \n",
    "    for (k, v) in sort(filter((!)∘isempty∘last, collect(ings)), by=length∘last)\n",
    "        p = filter(x -> !(x in used), v) |> first\n",
    "        final[k] = p\n",
    "        push!(used, p)\n",
    "    end\n",
    "    \n",
    "    final\n",
    "end\n",
    "\n",
    "find_safe(input) = let unsafe = keys(find_allergens(input))\n",
    "    @pipe getings(input) |> filter(x -> !(x in unsafe), _)\n",
    "end"
   ]
  },
  {
   "cell_type": "code",
   "execution_count": 63,
   "metadata": {},
   "outputs": [
    {
     "data": {
      "text/plain": [
       "Set{SubString{String}} with 4 elements:\n",
       "  \"sbzzf\"\n",
       "  \"trh\"\n",
       "  \"kfcds\"\n",
       "  \"nhms\""
      ]
     },
     "execution_count": 63,
     "metadata": {},
     "output_type": "execute_result"
    }
   ],
   "source": [
    "find_safe(input)"
   ]
  },
  {
   "cell_type": "code",
   "execution_count": 65,
   "metadata": {},
   "outputs": [
    {
     "data": {
      "text/plain": [
       "times_appear (generic function with 1 method)"
      ]
     },
     "execution_count": 65,
     "metadata": {},
     "output_type": "execute_result"
    }
   ],
   "source": [
    "times_appear(ings, input) =\n",
    "    @pipe input |> first.(_) |> vcat(_...) |> count(x -> (x in ings), _)"
   ]
  },
  {
   "cell_type": "code",
   "execution_count": 66,
   "metadata": {},
   "outputs": [
    {
     "data": {
      "text/plain": [
       "5"
      ]
     },
     "execution_count": 66,
     "metadata": {},
     "output_type": "execute_result"
    }
   ],
   "source": [
    "times_appear(find_safe(input), input)"
   ]
  },
  {
   "cell_type": "code",
   "execution_count": 58,
   "metadata": {},
   "outputs": [
    {
     "data": {
      "text/plain": [
       "\"mxmxvkd,sqjhc,fvjkl\""
      ]
     },
     "execution_count": 58,
     "metadata": {},
     "output_type": "execute_result"
    }
   ],
   "source": [
    "@pipe find_allergens(input) |> collect |> sort(_, by=last) |> first.(_) |> join(_, \",\")"
   ]
  }
 ],
 "metadata": {
  "kernelspec": {
   "display_name": "Julia 1.4.1",
   "language": "julia",
   "name": "julia-1.4"
  },
  "language_info": {
   "file_extension": ".jl",
   "mimetype": "application/julia",
   "name": "julia",
   "version": "1.4.1"
  }
 },
 "nbformat": 4,
 "nbformat_minor": 4
}
