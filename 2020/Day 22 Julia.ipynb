{
 "cells": [
  {
   "cell_type": "code",
   "execution_count": 1,
   "metadata": {},
   "outputs": [
    {
     "data": {
      "text/plain": [
       "get_input (generic function with 1 method)"
      ]
     },
     "execution_count": 1,
     "metadata": {},
     "output_type": "execute_result"
    }
   ],
   "source": [
    "using Pipe\n",
    "\n",
    "function get_input(file)\n",
    "    p1, p2 = @pipe read(file, String) |> split(_, \"\\n\\n\") |> split.(_, \"\\n\") |> map(x -> x[2:end], _) |> map.(x -> parse(Int, x), _)\n",
    "end"
   ]
  },
  {
   "cell_type": "code",
   "execution_count": 2,
   "metadata": {},
   "outputs": [
    {
     "data": {
      "text/plain": [
       "2-element Array{Array{Int64,1},1}:\n",
       " [9, 2, 6, 3, 1]\n",
       " [5, 8, 4, 7, 10]"
      ]
     },
     "execution_count": 2,
     "metadata": {},
     "output_type": "execute_result"
    }
   ],
   "source": [
    "p1, p2 = get_input(\"22-t.dat\")"
   ]
  },
  {
   "cell_type": "code",
   "execution_count": 3,
   "metadata": {},
   "outputs": [
    {
     "data": {
      "text/plain": [
       "do_turn (generic function with 1 method)"
      ]
     },
     "execution_count": 3,
     "metadata": {},
     "output_type": "execute_result"
    }
   ],
   "source": [
    "function do_turn(p1, p2)\n",
    "    top1 = popfirst!(p1)\n",
    "    top2 = popfirst!(p2)\n",
    "    \n",
    "    if top1 > top2\n",
    "        vcat(p1, [top1, top2]), p2\n",
    "    elseif top2 > top1\n",
    "        p1, vcat(p2, [top2, top1])\n",
    "    end\n",
    "end"
   ]
  },
  {
   "cell_type": "code",
   "execution_count": 4,
   "metadata": {},
   "outputs": [
    {
     "data": {
      "text/plain": [
       "get_score (generic function with 1 method)"
      ]
     },
     "execution_count": 4,
     "metadata": {},
     "output_type": "execute_result"
    }
   ],
   "source": [
    "get_score(p) = @pipe enumerate(p) |> reduce.(*, _) |> reduce(+, _)"
   ]
  },
  {
   "cell_type": "code",
   "execution_count": 5,
   "metadata": {},
   "outputs": [
    {
     "data": {
      "text/plain": [
       "until_ends (generic function with 1 method)"
      ]
     },
     "execution_count": 5,
     "metadata": {},
     "output_type": "execute_result"
    }
   ],
   "source": [
    "function until_ends(p1_, p2_)\n",
    "    p1, p2 = copy(p1_), copy(p2_)\n",
    "    while !isempty(p1) && !isempty(p2)\n",
    "        p1, p2 = do_turn(p1, p2)\n",
    "    end\n",
    "    @pipe [p1,p2] |> filter((!)∘isempty, _) |> first |> get_score\n",
    "end"
   ]
  },
  {
   "cell_type": "code",
   "execution_count": 6,
   "metadata": {},
   "outputs": [
    {
     "data": {
      "text/plain": [
       "299"
      ]
     },
     "execution_count": 6,
     "metadata": {},
     "output_type": "execute_result"
    }
   ],
   "source": [
    "until_ends(p1, p2)"
   ]
  },
  {
   "cell_type": "code",
   "execution_count": 7,
   "metadata": {},
   "outputs": [
    {
     "data": {
      "text/plain": [
       "rc (generic function with 1 method)"
      ]
     },
     "execution_count": 7,
     "metadata": {},
     "output_type": "execute_result"
    }
   ],
   "source": [
    "function rc(p1_, p2_)\n",
    "    p1, p2 = copy(p1_), copy(p2_)\n",
    "    prev = Set()\n",
    "    \n",
    "    ns(p1, p2, c1, c2, w) = (w == 1 ? vcat(p1, [c1, c2]) : p1), (w == 2 ? vcat(p2, [c2, c1]) : p2)\n",
    "    \n",
    "    while true\n",
    "        if isempty(p1) || isempty(p2)\n",
    "            return (length(p1) > length(p2) ? 1 : 2), p1, p2\n",
    "        elseif (p1, p2) in prev\n",
    "            return 1, p1, p2\n",
    "        else\n",
    "            push!(prev, (p1, p2))\n",
    "            c1, c2 = popfirst!(p1), popfirst!(p2)\n",
    "            if length(p1) >= c1 && length(p2) >= c2\n",
    "                w, _, _ = rc(p1[1:c1], p2[1:c2])\n",
    "                p1, p2 = ns(p1, p2, c1, c2, w)\n",
    "            else\n",
    "                p1, p2 = ns(p1, p2, c1, c2, c1 > c2 ? 1 : 2)\n",
    "            end\n",
    "        end\n",
    "    end\n",
    "end"
   ]
  },
  {
   "cell_type": "code",
   "execution_count": 8,
   "metadata": {},
   "outputs": [
    {
     "name": "stdout",
     "output_type": "stream",
     "text": [
      "  0.110973 seconds (351.81 k allocations: 16.832 MiB, 7.43% gc time)\n"
     ]
    },
    {
     "data": {
      "text/plain": [
       "314"
      ]
     },
     "execution_count": 8,
     "metadata": {},
     "output_type": "execute_result"
    }
   ],
   "source": [
    "@time r = rc(p1, p2)\n",
    "r[r[1]+1] |> get_score\n",
    "#@pipe (r1, r2) |> filter((!)∘isempty, _) |> first |> get_score"
   ]
  }
 ],
 "metadata": {
  "kernelspec": {
   "display_name": "Julia 1.4.1",
   "language": "julia",
   "name": "julia-1.4"
  },
  "language_info": {
   "file_extension": ".jl",
   "mimetype": "application/julia",
   "name": "julia",
   "version": "1.4.1"
  }
 },
 "nbformat": 4,
 "nbformat_minor": 4
}
