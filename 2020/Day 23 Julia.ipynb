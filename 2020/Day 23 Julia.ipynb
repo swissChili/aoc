{
 "cells": [
  {
   "cell_type": "code",
   "execution_count": 208,
   "metadata": {},
   "outputs": [
    {
     "ename": "ErrorException",
     "evalue": "invalid redefinition of constant Node",
     "output_type": "error",
     "traceback": [
      "invalid redefinition of constant Node",
      "",
      "Stacktrace:",
      " [1] top-level scope at /home/ch/.julia/packages/IJulia/IDNmS/src/kernel.jl:53"
     ]
    }
   ],
   "source": [
    "using Pipe\n",
    "\n",
    "mutable struct Node{T}\n",
    "    val::T\n",
    "    next::Union{Nothing, Node{T}}\n",
    "end"
   ]
  },
  {
   "cell_type": "code",
   "execution_count": 209,
   "metadata": {},
   "outputs": [],
   "source": [
    "a2ll(a::Array{}) = let head = Node(a[1], nothing)\n",
    "    f, l = reduce(a[2:end]; init=(head, head)) do (f, l), x\n",
    "               l.next = n = Node(x, nothing)\n",
    "               (f, n)\n",
    "           end\n",
    "    l.next = f\n",
    "end\n",
    "\n",
    "function Base.getindex(ll::Node{}, i)\n",
    "    while i != 1\n",
    "        ll, i = ll.next, i - 1\n",
    "    end\n",
    "    ll\n",
    "end"
   ]
  },
  {
   "cell_type": "code",
   "execution_count": 210,
   "metadata": {},
   "outputs": [
    {
     "data": {
      "text/plain": [
       "1000000"
      ]
     },
     "execution_count": 210,
     "metadata": {},
     "output_type": "execute_result"
    }
   ],
   "source": [
    "l2 = 1000000\n",
    "input2 = @pipe collect(\"389125467\") |> parse.(Int, _) |> vcat(_, (length(_) + 1):l2) |> a2ll"
   ]
  },
  {
   "cell_type": "code",
   "execution_count": 211,
   "metadata": {},
   "outputs": [],
   "source": [
    "node_vals = Dict()\n",
    "head = input2\n",
    "for i in 1:l2\n",
    "    node_vals[head.val] = head\n",
    "    head = head.next\n",
    "end"
   ]
  },
  {
   "cell_type": "code",
   "execution_count": 212,
   "metadata": {},
   "outputs": [
    {
     "data": {
      "text/plain": [
       "next (generic function with 1 method)"
      ]
     },
     "execution_count": 212,
     "metadata": {},
     "output_type": "execute_result"
    }
   ],
   "source": [
    "function next(cups, current; l=l2)\n",
    "    cn = node_vals[current]\n",
    "    r1, r2, r3, after = [cn[x] for x in 2:5]\n",
    "    cn.next = after\n",
    "    r3.next = nothing\n",
    "    \n",
    "    nc(c) = c < 1 ? nc(l) : c in (r1.val, r2.val, r3.val) ? nc(c - 1) : c\n",
    "    \n",
    "    dn = node_vals[nc(current - 1)]\n",
    "    dn.next, r3.next = r1, dn.next\n",
    "    \n",
    "    after.val\n",
    "end"
   ]
  },
  {
   "cell_type": "code",
   "execution_count": 213,
   "metadata": {},
   "outputs": [
    {
     "data": {
      "text/plain": [
       "nrounds (generic function with 1 method)"
      ]
     },
     "execution_count": 213,
     "metadata": {},
     "output_type": "execute_result"
    }
   ],
   "source": [
    "nrounds(cups; n=100) = reduce((curr, _) -> next(cups, curr), 1:n; init=cups.val)"
   ]
  },
  {
   "cell_type": "code",
   "execution_count": 214,
   "metadata": {},
   "outputs": [
    {
     "name": "stdout",
     "output_type": "stream",
     "text": [
      " 18.877262 seconds (139.39 M allocations: 3.575 GiB, 4.51% gc time)\n"
     ]
    },
    {
     "data": {
      "text/plain": [
       "446131"
      ]
     },
     "execution_count": 214,
     "metadata": {},
     "output_type": "execute_result"
    }
   ],
   "source": [
    "@time nrounds(input2; n=10_000_000)"
   ]
  },
  {
   "cell_type": "code",
   "execution_count": 215,
   "metadata": {},
   "outputs": [
    {
     "data": {
      "text/plain": [
       "149245887792"
      ]
     },
     "metadata": {},
     "output_type": "display_data"
    }
   ],
   "source": [
    "display(node_vals[1].next.val * node_vals[1].next.next.val)"
   ]
  }
 ],
 "metadata": {
  "kernelspec": {
   "display_name": "Julia 1.4.1",
   "language": "julia",
   "name": "julia-1.4"
  },
  "language_info": {
   "file_extension": ".jl",
   "mimetype": "application/julia",
   "name": "julia",
   "version": "1.4.1"
  }
 },
 "nbformat": 4,
 "nbformat_minor": 4
}
