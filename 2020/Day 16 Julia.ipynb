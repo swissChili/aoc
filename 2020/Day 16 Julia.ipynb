{
 "cells": [
  {
   "cell_type": "code",
   "execution_count": 22,
   "metadata": {},
   "outputs": [],
   "source": [
    "using Pipe: @pipe\n",
    "\n",
    "mutable struct Rule\n",
    "    name::String\n",
    "    ranges::Array{Tuple{Int, Int}, 1}\n",
    "end\n",
    "\n",
    "mutable struct RulePos\n",
    "    rule::Rule\n",
    "    possible::Array{Int, 1}\n",
    "end"
   ]
  },
  {
   "cell_type": "code",
   "execution_count": 23,
   "metadata": {},
   "outputs": [
    {
     "data": {
      "text/plain": [
       "parse_ticket (generic function with 1 method)"
      ]
     },
     "execution_count": 23,
     "metadata": {},
     "output_type": "execute_result"
    }
   ],
   "source": [
    "function parse_rule(line)\n",
    "    m = match(r\"^([a-z\\s]+): (\\d+)-(\\d+) or (\\d+)-(\\d+)$\", line)\n",
    "    return Rule(m[1], [\n",
    "        (parse(Int, m[2]), parse(Int, m[3])),\n",
    "        (parse(Int, m[4]), parse(Int, m[5]))\n",
    "    ])\n",
    "end\n",
    "\n",
    "parse_ticket(line) = parse.(Int, split(line, \",\"))"
   ]
  },
  {
   "cell_type": "code",
   "execution_count": 24,
   "metadata": {},
   "outputs": [
    {
     "data": {
      "text/plain": [
       "get_input (generic function with 1 method)"
      ]
     },
     "execution_count": 24,
     "metadata": {},
     "output_type": "execute_result"
    }
   ],
   "source": [
    "get_input(file) = open(file) do f\n",
    "    str = read(f, String)\n",
    "    parts = split(str, \"\\n\\n\")\n",
    "\n",
    "    rules = parts[1] |> x -> split(x, \"\\n\") |> x -> parse_rule.(x)\n",
    "    your_ticket = split(parts[2], \"\\n\")[2] |> parse_ticket\n",
    "    other_tickets = split(parts[3], \"\\n\")[2:end] |> x -> parse_ticket.(x)\n",
    "\n",
    "    (rules, your_ticket, other_tickets)\n",
    "end"
   ]
  },
  {
   "cell_type": "code",
   "execution_count": 25,
   "metadata": {},
   "outputs": [],
   "source": [
    "rules, yours, others = get_input(\"16.dat\");"
   ]
  },
  {
   "cell_type": "code",
   "execution_count": 26,
   "metadata": {},
   "outputs": [
    {
     "data": {
      "text/plain": [
       "ticket_valid (generic function with 1 method)"
      ]
     },
     "execution_count": 26,
     "metadata": {},
     "output_type": "execute_result"
    }
   ],
   "source": [
    "rule_valid_for(rule::Rule, num::Int) =\n",
    "    reduce((old, (low, high)) -> old || (low <= num && num <= high), rule.ranges; init=false)\n",
    "\n",
    "any_valid_for(rules::Array{Rule, 1}, num::Int) = \n",
    "    reduce((old, r) -> old || rule_valid_for(r, num), rules; init=false)\n",
    "\n",
    "ticket_valid(ticket, rules) =\n",
    "    reduce((old, num) -> old && any_valid_for(rules, num), ticket; init=true)"
   ]
  },
  {
   "cell_type": "code",
   "execution_count": 27,
   "metadata": {},
   "outputs": [
    {
     "name": "stdout",
     "output_type": "stream",
     "text": [
      "find_invalids(others, rules) = 24110\n"
     ]
    },
    {
     "data": {
      "text/plain": [
       "24110"
      ]
     },
     "execution_count": 27,
     "metadata": {},
     "output_type": "execute_result"
    }
   ],
   "source": [
    "find_invalids(tickets, rules) =\n",
    "    @pipe reduce(vcat, tickets) |> filter(v -> !any_valid_for(rules, v), _) |> reduce(+, _)\n",
    "\n",
    "@show find_invalids(others, rules)"
   ]
  },
  {
   "cell_type": "code",
   "execution_count": 28,
   "metadata": {},
   "outputs": [],
   "source": [
    "valid_others = filter(x -> ticket_valid(x, rules), others);"
   ]
  },
  {
   "cell_type": "code",
   "execution_count": 34,
   "metadata": {},
   "outputs": [
    {
     "data": {
      "text/plain": [
       "find_rule_pos (generic function with 1 method)"
      ]
     },
     "execution_count": 34,
     "metadata": {},
     "output_type": "execute_result"
    }
   ],
   "source": [
    "function find_rule_pos(tickets, rules)\n",
    "    poses = [RulePos(r, range(1, length(tickets[1]); step=1)) for r in rules]\n",
    "    \n",
    "    for ticket in tickets\n",
    "        for pos in poses\n",
    "            for p in pos.possible\n",
    "                if !rule_valid_for(pos.rule, ticket[p])\n",
    "                    pos.possible = filter(x -> x != p, pos.possible)\n",
    "                end\n",
    "            end\n",
    "        end\n",
    "    end\n",
    "    \n",
    "    sorted = sort(poses, by=x -> length(x.possible))\n",
    "    solved = Dict{String, Int}()\n",
    "    \n",
    "    for s in sorted\n",
    "        for p in s.possible\n",
    "            if !(p in values(solved))\n",
    "                solved[s.rule.name] = p\n",
    "                break\n",
    "            end\n",
    "        end\n",
    "    end\n",
    "    \n",
    "    solved\n",
    "end"
   ]
  },
  {
   "cell_type": "code",
   "execution_count": 35,
   "metadata": {},
   "outputs": [
    {
     "name": "stdout",
     "output_type": "stream",
     "text": [
      "2904720\n"
     ]
    }
   ],
   "source": [
    "@pipe find_rule_pos(valid_others, rules) |>\n",
    "    filter(v -> startswith(v[1], \"departure\"), _) |>\n",
    "    collect |> map(v -> v[2], _) |> reduce(*, _) |> println"
   ]
  }
 ],
 "metadata": {
  "kernelspec": {
   "display_name": "Julia 1.4.1",
   "language": "julia",
   "name": "julia-1.4"
  },
  "language_info": {
   "file_extension": ".jl",
   "mimetype": "application/julia",
   "name": "julia",
   "version": "1.4.1"
  }
 },
 "nbformat": 4,
 "nbformat_minor": 4
}
