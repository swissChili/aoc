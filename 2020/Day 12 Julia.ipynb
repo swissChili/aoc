{
 "cells": [
  {
   "cell_type": "code",
   "execution_count": 166,
   "metadata": {},
   "outputs": [
    {
     "data": {
      "text/plain": [
       "get_input (generic function with 1 method)"
      ]
     },
     "execution_count": 166,
     "metadata": {},
     "output_type": "execute_result"
    }
   ],
   "source": [
    "get_input(file) = open(file) do f\n",
    "    [(x[1], parse(Int, x[2:end])) for x in eachline(f)]\n",
    "end"
   ]
  },
  {
   "cell_type": "code",
   "execution_count": 167,
   "metadata": {},
   "outputs": [],
   "source": [
    "mutable struct Ship\n",
    "    orientation::Int # east = 0, goes clockwise\n",
    "    east::Int\n",
    "    north::Int\n",
    "end\n",
    "\n",
    "mutable struct Waypoint\n",
    "    east::Int\n",
    "    north::Int\n",
    "end"
   ]
  },
  {
   "cell_type": "code",
   "execution_count": 168,
   "metadata": {},
   "outputs": [],
   "source": [
    "input = get_input(\"12-big.dat\");"
   ]
  },
  {
   "cell_type": "code",
   "execution_count": 169,
   "metadata": {},
   "outputs": [
    {
     "data": {
      "text/plain": [
       "Dict{Char,Function} with 4 entries:\n",
       "  'E' => #149\n",
       "  'W' => #150\n",
       "  'S' => #148\n",
       "  'N' => #147"
      ]
     },
     "execution_count": 169,
     "metadata": {},
     "output_type": "execute_result"
    }
   ],
   "source": [
    "directions = Dict(\n",
    "    'N'=>(s,a)->s.north+=a,\n",
    "    'S'=>(s,a)->s.north-=a,\n",
    "    'E'=>(s,a)->s.east+=a,\n",
    "    'W'=>(s,a)->s.east-=a\n",
    ")"
   ]
  },
  {
   "cell_type": "code",
   "execution_count": 170,
   "metadata": {},
   "outputs": [
    {
     "data": {
      "text/plain": [
       "ship_run (generic function with 1 method)"
      ]
     },
     "execution_count": 170,
     "metadata": {},
     "output_type": "execute_result"
    }
   ],
   "source": [
    "function ship_inst(ship::Ship, (inst, arg))\n",
    "    if inst in keys(directions)\n",
    "        directions[inst](ship, arg)\n",
    "    elseif inst == 'L' || inst == 'R'\n",
    "        ship.orientation += ((inst == 'L') * 2 - 1) * (arg / 90)\n",
    "    elseif inst == 'F'\n",
    "        ship_inst(ship, (collect(\"ESWN\")[mod1(ship.orientation, 4)], arg))\n",
    "    end\n",
    "end\n",
    "\n",
    "function ship_run(ship::Ship, input)\n",
    "    for i in input\n",
    "        ship_inst(ship, i)\n",
    "    end\n",
    "end"
   ]
  },
  {
   "cell_type": "code",
   "execution_count": 171,
   "metadata": {},
   "outputs": [
    {
     "data": {
      "text/plain": [
       "waypt_run (generic function with 1 method)"
      ]
     },
     "execution_count": 171,
     "metadata": {},
     "output_type": "execute_result"
    }
   ],
   "source": [
    "function waypt_inst(ship::Ship, wp::Waypoint, (inst, arg))\n",
    "    if inst in keys(directions)\n",
    "        directions[inst](ship, arg)\n",
    "    elseif inst == 'L' || inst == 'R'\n",
    "        factor = inst == 'L' ? 1 : -1\n",
    "        for time in 1:(arg / 90)\n",
    "            wp.east, wp.north = -factor * wp.north, factor * wp.east\n",
    "        end\n",
    "    elseif inst == 'F'\n",
    "        ship.east += arg * wp.east\n",
    "        ship.north += arg * wp.north\n",
    "    end\n",
    "end\n",
    "\n",
    "function waypt_run(ship::Ship, wp::Waypoint, input)\n",
    "    for i in input\n",
    "        waypt_inst(ship, wp, i)\n",
    "    end\n",
    "end"
   ]
  },
  {
   "cell_type": "code",
   "execution_count": 172,
   "metadata": {},
   "outputs": [
    {
     "name": "stdout",
     "output_type": "stream",
     "text": [
      "  9.200205 seconds (267.37 M allocations: 5.050 GiB, 3.37% gc time)\n",
      "abs(ship1.east) + abs(ship1.north) = 11041094\n"
     ]
    },
    {
     "data": {
      "text/plain": [
       "11041094"
      ]
     },
     "execution_count": 172,
     "metadata": {},
     "output_type": "execute_result"
    }
   ],
   "source": [
    "ship1 = Ship(0, 0, 0)\n",
    "@time ship_run(ship1, input)\n",
    "@show abs(ship1.east) + abs(ship1.north)"
   ]
  },
  {
   "cell_type": "code",
   "execution_count": 173,
   "metadata": {},
   "outputs": [
    {
     "data": {
      "text/plain": [
       "Waypoint(10, 1)"
      ]
     },
     "execution_count": 173,
     "metadata": {},
     "output_type": "execute_result"
    }
   ],
   "source": [
    "ship2 = Ship(0, 0, 0)\n",
    "wp = Waypoint(10, 1)"
   ]
  },
  {
   "cell_type": "code",
   "execution_count": 174,
   "metadata": {},
   "outputs": [
    {
     "name": "stdout",
     "output_type": "stream",
     "text": [
      "  9.728176 seconds (202.47 M allocations: 3.019 GiB, 1.48% gc time)\n"
     ]
    }
   ],
   "source": [
    "@time waypt_run(ship2, wp, input)"
   ]
  },
  {
   "cell_type": "code",
   "execution_count": 175,
   "metadata": {},
   "outputs": [
    {
     "name": "stdout",
     "output_type": "stream",
     "text": [
      "abs(ship2.east) + abs(ship2.north) = 35337642\n"
     ]
    },
    {
     "data": {
      "text/plain": [
       "35337642"
      ]
     },
     "execution_count": 175,
     "metadata": {},
     "output_type": "execute_result"
    }
   ],
   "source": [
    "@show abs(ship2.east) + abs(ship2.north)"
   ]
  }
 ],
 "metadata": {
  "kernelspec": {
   "display_name": "Julia 1.4.1",
   "language": "julia",
   "name": "julia-1.4"
  },
  "language_info": {
   "file_extension": ".jl",
   "mimetype": "application/julia",
   "name": "julia",
   "version": "1.4.1"
  }
 },
 "nbformat": 4,
 "nbformat_minor": 4
}
