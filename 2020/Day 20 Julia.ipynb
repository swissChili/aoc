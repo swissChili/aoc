{
 "cells": [
  {
   "cell_type": "code",
   "execution_count": 4,
   "metadata": {},
   "outputs": [
    {
     "data": {
      "text/plain": [
       "get_input (generic function with 1 method)"
      ]
     },
     "execution_count": 4,
     "metadata": {},
     "output_type": "execute_result"
    }
   ],
   "source": [
    "using Pipe\n",
    "\n",
    "parse_pic(str) = begin\n",
    "    lines = split(str, \"\\n\")\n",
    "    m = match(r\"^Tile (\\d+):$\", lines[1])\n",
    "    num = parse(Int, m[1])\n",
    "    arr = fill(' ', (length(lines[2]), length(lines[2])))\n",
    "    \n",
    "    for (i, row) in enumerate(collect.(lines[2:end]))\n",
    "        for (j, c) in enumerate(row)\n",
    "            arr[i,j] = c\n",
    "        end\n",
    "    end\n",
    "    \n",
    "    num => arr\n",
    "end\n",
    "\n",
    "get_input(file) = open(file) do f\n",
    "    pics = split(read(f, String), \"\\n\\n\")\n",
    "    Dict(parse_pic.(pics))\n",
    "end"
   ]
  },
  {
   "cell_type": "code",
   "execution_count": 5,
   "metadata": {},
   "outputs": [],
   "source": [
    "pics = get_input(\"20.dat\");"
   ]
  },
  {
   "cell_type": "code",
   "execution_count": 6,
   "metadata": {},
   "outputs": [
    {
     "data": {
      "text/plain": [
       "pic_sides (generic function with 1 method)"
      ]
     },
     "execution_count": 6,
     "metadata": {},
     "output_type": "execute_result"
    }
   ],
   "source": [
    "pic_sides(p) = (p[1:10,1], p[1:10,10], p[1,1:10], p[10,1:10], reverse(p[1:10,1]), reverse(p[1:10,10]), reverse(p[1,1:10]), reverse(p[10,1:10]))"
   ]
  },
  {
   "cell_type": "code",
   "execution_count": 7,
   "metadata": {},
   "outputs": [
    {
     "data": {
      "text/plain": [
       "find_corners (generic function with 1 method)"
      ]
     },
     "execution_count": 7,
     "metadata": {},
     "output_type": "execute_result"
    }
   ],
   "source": [
    "function all_sides(pics)\n",
    "    sides_cache = Dict{Array{Char, 1}, Array{Int, 1}}()\n",
    "    \n",
    "    for (k, v) in pics\n",
    "        ps = pic_sides(v)\n",
    "        for s in ps\n",
    "            if s in keys(sides_cache)\n",
    "                push!(sides_cache[s], k)\n",
    "            else\n",
    "                sides_cache[s] = [k]\n",
    "            end\n",
    "        end\n",
    "    end\n",
    "    \n",
    "    sides_cache\n",
    "end\n",
    "\n",
    "function find_corners(sides, pics)\n",
    "    ok = []\n",
    "    for (k, v) in pics\n",
    "        s = pic_sides(v)\n",
    "        num_neighbors = 0\n",
    "        for side in s\n",
    "            if length(sides[side]) > 1\n",
    "                num_neighbors += 1\n",
    "            end\n",
    "        end\n",
    "        if num_neighbors == 4 # 4 cus reverses count too\n",
    "            push!(ok, k)\n",
    "        end\n",
    "    end\n",
    "    ok\n",
    "end"
   ]
  },
  {
   "cell_type": "code",
   "execution_count": 8,
   "metadata": {},
   "outputs": [
    {
     "data": {
      "text/plain": [
       "4-element Array{Any,1}:\n",
       " 2287\n",
       " 3433\n",
       " 3461\n",
       " 3083"
      ]
     },
     "execution_count": 8,
     "metadata": {},
     "output_type": "execute_result"
    }
   ],
   "source": [
    "find_corners(all_sides(pics), pics)"
   ]
  },
  {
   "cell_type": "code",
   "execution_count": 9,
   "metadata": {},
   "outputs": [
    {
     "data": {
      "text/plain": [
       "join_images (generic function with 1 method)"
      ]
     },
     "execution_count": 9,
     "metadata": {},
     "output_type": "execute_result"
    }
   ],
   "source": [
    "function join_images(pics; instead=nothing)\n",
    "    as = all_sides(pics)\n",
    "    corners = find_corners(as, pics)\n",
    "    tl = instead==nothing ? pics[corners[1]] : pics[instead] # top-left corner\n",
    "    idx = instead == nothing ? corners[1] : instead\n",
    "    \n",
    "    toprow(p) = p[1,1:10]\n",
    "    leftcol(p) = p[1:10,1]\n",
    "    bottomrow(p) = p[10,1:10]\n",
    "    rightcol(p) = p[1:10,10]\n",
    "    \n",
    "    sz::Int = sqrt(length(pics))\n",
    "    \n",
    "    @show sz\n",
    "    \n",
    "    for i in 0:3\n",
    "        r = rotr90(tl, i)\n",
    "        trl = length(as[toprow(r)])\n",
    "        lcl = length(as[leftcol(r)])\n",
    "        \n",
    "        if trl == lcl == 1\n",
    "            tl = r\n",
    "        end\n",
    "    end\n",
    "    \n",
    "    left = tl\n",
    "    lidx = idx\n",
    "    \n",
    "    layout::Array{Int, 2} = zeros((sz, sz))\n",
    "    layout[1,1] = idx\n",
    "    \n",
    "    dis_layout::Array{Array{Char, 2}, 2} = fill(zeros((10,10)), (sz, sz))\n",
    "    dis_layout[1,1] = tl\n",
    "    \n",
    "    function findfits(pic, left, f)\n",
    "        for i in 0:3\n",
    "            r = rotr90(pic, i)\n",
    "            if f(r) == left\n",
    "                return copy(r)\n",
    "            end\n",
    "            if f(reverse(r;dims=1)) == left\n",
    "                return copy(reverse(r;dims=1))\n",
    "            end\n",
    "        end\n",
    "    end\n",
    "    \n",
    "    tlidx = lidx\n",
    "    \n",
    "    for j in 1:sz\n",
    "        for i in 2:sz\n",
    "            #display(left)\n",
    "            nl = filter(x -> x != lidx, as[rightcol(left)])[1]\n",
    "            layout[j,i] = nl\n",
    "            left = findfits(pics[nl], rightcol(left), leftcol)\n",
    "            dis_layout[j,i] = left\n",
    "            lidx = nl\n",
    "        end\n",
    "        \n",
    "        if j == sz\n",
    "            break\n",
    "        end\n",
    "\n",
    "        new = @pipe as[bottomrow(tl)] |> filter(x -> x != tlidx, _) |> first\n",
    "        @show new\n",
    "        \n",
    "        layout[j + 1,1] = new\n",
    "        ntl = pics[new]\n",
    "        left = findfits(ntl, bottomrow(tl), toprow)\n",
    "        dis_layout[j + 1,1] = left\n",
    "        lidx = new\n",
    "        tlidx = new\n",
    "        tl = left\n",
    "    end\n",
    "    layout, dis_layout\n",
    "end"
   ]
  },
  {
   "cell_type": "code",
   "execution_count": 10,
   "metadata": {},
   "outputs": [
    {
     "name": "stdout",
     "output_type": "stream",
     "text": [
      "sz = 12\n",
      "new = 1567\n",
      "new = 2221\n",
      "new = 3019\n",
      "new = 1283\n",
      "new = 1579\n",
      "new = 3529\n",
      "new = 1361\n",
      "new = 2803\n",
      "new = 1051\n",
      "new = 2719\n",
      "new = 3433\n"
     ]
    },
    {
     "data": {
      "text/plain": [
       "([2287 1093 … 1871 3083; 1567 3463 … 2791 3677; … ; 2719 3191 … 1217 2141; 3433 3221 … 3061 3461], [['.' '.' … '.' '#'; '.' '.' … '#' '#'; … ; '#' '.' … '.' '#'; '#' '.' … '.' '.'] ['#' '#' … '.' '.'; '#' '#' … '.' '#'; … ; '#' '.' … '.' '.'; '.' '.' … '#' '.'] … ['.' '#' … '#' '.'; '#' '.' … '.' '#'; … ; '#' '.' … '.' '.'; '.' '.' … '.' '#'] ['.' '.' … '#' '#'; '#' '.' … '#' '#'; … ; '.' '.' … '.' '#'; '#' '#' … '#' '#']; ['#' '.' … '.' '.'; '.' '.' … '#' '.'; … ; '.' '.' … '#' '#'; '.' '#' … '#' '#'] ['.' '.' … '#' '.'; '.' '.' … '.' '.'; … ; '#' '.' … '.' '#'; '#' '#' … '#' '#'] … ['.' '.' … '.' '#'; '.' '.' … '#' '#'; … ; '.' '.' … '.' '.'; '#' '.' … '.' '#'] ['#' '#' … '#' '#'; '#' '.' … '#' '.'; … ; '.' '#' … '.' '#'; '#' '.' … '#' '.']; … ; ['.' '#' … '.' '#'; '.' '.' … '.' '#'; … ; '.' '.' … '.' '#'; '#' '.' … '#' '#'] ['#' '#' … '#' '#'; '#' '.' … '.' '.'; … ; '#' '.' … '#' '.'; '#' '.' … '.' '#'] … ['.' '#' … '#' '.'; '.' '.' … '#' '.'; … ; '.' '.' … '.' '#'; '#' '#' … '.' '#'] ['.' '#' … '.' '.'; '.' '.' … '.' '#'; … ; '#' '.' … '.' '#'; '#' '#' … '.' '.']; ['#' '.' … '#' '#'; '#' '#' … '.' '#'; … ; '.' '.' … '.' '#'; '.' '.' … '.' '.'] ['#' '.' … '.' '#'; '#' '.' … '#' '#'; … ; '#' '#' … '.' '.'; '.' '.' … '.' '#'] … ['#' '#' … '.' '#'; '.' '.' … '.' '.'; … ; '.' '.' … '.' '#'; '#' '#' … '#' '#'] ['#' '#' … '.' '.'; '.' '.' … '#' '#'; … ; '#' '#' … '.' '#'; '#' '.' … '#' '.']])"
      ]
     },
     "execution_count": 10,
     "metadata": {},
     "output_type": "execute_result"
    }
   ],
   "source": [
    "layout, dis = join_images(pics)"
   ]
  },
  {
   "cell_type": "code",
   "execution_count": 11,
   "metadata": {},
   "outputs": [
    {
     "data": {
      "text/plain": [
       "trim_border (generic function with 1 method)"
      ]
     },
     "execution_count": 11,
     "metadata": {},
     "output_type": "execute_result"
    }
   ],
   "source": [
    "trim_border(arr) = arr[2:9,2:9]"
   ]
  },
  {
   "cell_type": "code",
   "execution_count": 12,
   "metadata": {},
   "outputs": [
    {
     "data": {
      "text/plain": [
       "12×12 Array{Array{Char,2},2}:\n",
       " ['.' '#' … '.' '#'; '.' '.' … '.' '.'; … ; '#' '.' … '.' '#'; '.' '#' … '#' '.']  …  ['.' '.' … '.' '#'; '.' '.' … '.' '.'; … ; '.' '.' … '.' '.'; '.' '.' … '.' '.']\n",
       " ['.' '.' … '.' '#'; '.' '.' … '.' '.'; … ; '.' '.' … '#' '#'; '.' '#' … '#' '#']     ['.' '.' … '.' '#'; '.' '#' … '.' '.'; … ; '.' '.' … '#' '.'; '#' '#' … '.' '.']\n",
       " ['.' '#' … '#' '.'; '.' '.' … '.' '#'; … ; '.' '.' … '.' '.'; '.' '.' … '.' '#']     ['.' '.' … '.' '.'; '#' '#' … '#' '.'; … ; '.' '.' … '.' '.'; '#' '#' … '#' '.']\n",
       " ['.' '.' … '.' '.'; '.' '.' … '#' '.'; … ; '.' '#' … '.' '.'; '.' '.' … '#' '#']     ['.' '.' … '.' '.'; '#' '#' … '#' '#'; … ; '.' '.' … '.' '.'; '.' '#' … '.' '.']\n",
       " ['.' '.' … '.' '#'; '#' '.' … '#' '.'; … ; '#' '#' … '#' '.'; '.' '.' … '.' '#']     ['.' '.' … '.' '#'; '#' '#' … '#' '.'; … ; '.' '.' … '.' '.'; '.' '.' … '.' '.']\n",
       " ['#' '.' … '#' '.'; '#' '.' … '.' '.'; … ; '.' '#' … '.' '.'; '.' '#' … '.' '.']  …  ['#' '#' … '.' '.'; '#' '#' … '#' '.'; … ; '.' '.' … '.' '#'; '.' '.' … '.' '#']\n",
       " ['.' '.' … '.' '.'; '.' '.' … '.' '.'; … ; '.' '.' … '#' '#'; '.' '.' … '.' '.']     ['#' '.' … '.' '#'; '.' '.' … '.' '.'; … ; '.' '.' … '.' '.'; '#' '#' … '.' '.']\n",
       " ['.' '.' … '#' '.'; '.' '.' … '.' '#'; … ; '.' '.' … '#' '#'; '.' '.' … '.' '.']     ['.' '#' … '.' '.'; '.' '.' … '.' '.'; … ; '.' '.' … '.' '.'; '#' '.' … '.' '#']\n",
       " ['#' '.' … '.' '.'; '.' '.' … '.' '.'; … ; '#' '.' … '.' '.'; '.' '.' … '.' '.']     ['.' '.' … '.' '.'; '.' '.' … '.' '.'; … ; '.' '.' … '#' '.'; '.' '.' … '.' '.']\n",
       " ['.' '.' … '.' '.'; '.' '.' … '.' '.'; … ; '#' '.' … '.' '.'; '.' '.' … '.' '.']     ['.' '.' … '#' '.'; '#' '#' … '#' '.'; … ; '#' '.' … '.' '.'; '.' '.' … '.' '.']\n",
       " ['.' '.' … '.' '.'; '#' '.' … '.' '.'; … ; '#' '#' … '.' '.'; '.' '.' … '.' '.']  …  ['.' '.' … '#' '.'; '.' '.' … '.' '.'; … ; '.' '.' … '.' '.'; '.' '.' … '#' '.']\n",
       " ['#' '.' … '#' '.'; '.' '.' … '.' '#'; … ; '.' '.' … '.' '.'; '.' '.' … '#' '.']     ['.' '.' … '.' '#'; '.' '.' … '.' '.'; … ; '.' '#' … '.' '.'; '#' '.' … '.' '.']"
      ]
     },
     "execution_count": 12,
     "metadata": {},
     "output_type": "execute_result"
    }
   ],
   "source": [
    "trimmed = trim_border.(dis)"
   ]
  },
  {
   "cell_type": "code",
   "execution_count": 13,
   "metadata": {},
   "outputs": [
    {
     "data": {
      "text/plain": [
       "join_all (generic function with 1 method)"
      ]
     },
     "execution_count": 13,
     "metadata": {},
     "output_type": "execute_result"
    }
   ],
   "source": [
    "function join_all(pics)\n",
    "    sx::Int = sqrt(length(pics))\n",
    "    sp::Int = sqrt(length(pics[1,1]))\n",
    "    sz::Int = sx * sp\n",
    "    \n",
    "    final::Array{Char, 2} = fill(' ', (sz, sz))\n",
    "    \n",
    "    for oj in 0:(sx - 1)\n",
    "        for oi in 0:(sx - 1)\n",
    "            for ij in 1:sp\n",
    "                for ii in 1:sp\n",
    "                    final[oj * sp + ij, oi * sp + ii] = pics[oj + 1,oi + 1][ij,ii]\n",
    "                end\n",
    "            end\n",
    "        end\n",
    "    end\n",
    "    \n",
    "    final\n",
    "end"
   ]
  },
  {
   "cell_type": "code",
   "execution_count": 14,
   "metadata": {},
   "outputs": [
    {
     "data": {
      "text/plain": [
       "96×96 Array{Char,2}:\n",
       " '.'  '#'  '.'  '.'  '.'  '#'  '.'  '#'  …  '.'  '.'  '.'  '.'  '#'  '.'  '#'\n",
       " '.'  '.'  '.'  '.'  '.'  '.'  '.'  '.'     '.'  '#'  '.'  '.'  '.'  '.'  '.'\n",
       " '.'  '.'  '#'  '.'  '.'  '#'  '#'  '#'     '#'  '.'  '.'  '.'  '.'  '.'  '.'\n",
       " '#'  '.'  '#'  '#'  '.'  '.'  '.'  '#'     '.'  '#'  '.'  '.'  '.'  '.'  '.'\n",
       " '.'  '.'  '.'  '#'  '.'  '#'  '.'  '.'     '#'  '.'  '.'  '.'  '#'  '.'  '.'\n",
       " '#'  '#'  '.'  '.'  '.'  '.'  '.'  '#'  …  '.'  '.'  '#'  '.'  '.'  '.'  '#'\n",
       " '#'  '.'  '#'  '.'  '#'  '.'  '.'  '#'     '.'  '#'  '.'  '#'  '#'  '.'  '.'\n",
       " '.'  '#'  '.'  '.'  '#'  '.'  '#'  '.'     '.'  '.'  '#'  '.'  '.'  '.'  '.'\n",
       " '.'  '.'  '.'  '.'  '.'  '.'  '.'  '#'     '.'  '#'  '.'  '#'  '.'  '.'  '#'\n",
       " '.'  '.'  '.'  '.'  '.'  '.'  '.'  '.'     '#'  '.'  '.'  '.'  '.'  '.'  '.'\n",
       " '.'  '.'  '#'  '.'  '.'  '.'  '.'  '.'  …  '.'  '.'  '.'  '#'  '.'  '.'  '#'\n",
       " '#'  '#'  '.'  '.'  '.'  '.'  '#'  '.'     '.'  '.'  '.'  '.'  '.'  '.'  '.'\n",
       " '.'  '.'  '#'  '#'  '.'  '.'  '.'  '.'     '.'  '.'  '.'  '.'  '#'  '.'  '#'\n",
       " ⋮                        ⋮              ⋱       ⋮                        ⋮\n",
       " '.'  '.'  '#'  '#'  '.'  '.'  '.'  '#'     '.'  '.'  '.'  '.'  '.'  '.'  '.'\n",
       " '#'  '.'  '.'  '.'  '.'  '.'  '#'  '.'  …  '#'  '.'  '.'  '.'  '.'  '.'  '#'\n",
       " '#'  '#'  '.'  '#'  '#'  '#'  '.'  '.'     '.'  '.'  '.'  '.'  '.'  '.'  '.'\n",
       " '.'  '.'  '#'  '.'  '#'  '.'  '.'  '.'     '.'  '.'  '.'  '.'  '.'  '#'  '.'\n",
       " '#'  '.'  '.'  '#'  '#'  '.'  '#'  '.'     '.'  '#'  '.'  '#'  '#'  '.'  '#'\n",
       " '.'  '.'  '.'  '.'  '.'  '.'  '.'  '#'     '.'  '.'  '.'  '.'  '.'  '.'  '.'\n",
       " '#'  '#'  '.'  '#'  '#'  '.'  '.'  '#'  …  '.'  '.'  '#'  '.'  '#'  '.'  '#'\n",
       " '#'  '.'  '.'  '.'  '.'  '.'  '.'  '.'     '#'  '#'  '.'  '.'  '.'  '.'  '.'\n",
       " '.'  '.'  '.'  '.'  '.'  '#'  '.'  '.'     '.'  '.'  '.'  '.'  '#'  '#'  '.'\n",
       " '.'  '.'  '.'  '.'  '.'  '.'  '#'  '.'     '.'  '.'  '#'  '.'  '.'  '.'  '#'\n",
       " '.'  '.'  '.'  '#'  '.'  '.'  '.'  '.'     '#'  '.'  '.'  '.'  '.'  '.'  '.'\n",
       " '.'  '.'  '.'  '.'  '.'  '.'  '#'  '.'  …  '.'  '.'  '.'  '.'  '.'  '.'  '.'"
      ]
     },
     "execution_count": 14,
     "metadata": {},
     "output_type": "execute_result"
    }
   ],
   "source": [
    "joined = join_all(trimmed)"
   ]
  },
  {
   "cell_type": "code",
   "execution_count": 15,
   "metadata": {},
   "outputs": [
    {
     "data": {
      "text/plain": [
       "tomat (generic function with 1 method)"
      ]
     },
     "execution_count": 15,
     "metadata": {},
     "output_type": "execute_result"
    }
   ],
   "source": [
    "tomat(a) = permutedims(reshape(hcat(a...), (length(a[1]), length(a))))"
   ]
  },
  {
   "cell_type": "code",
   "execution_count": 16,
   "metadata": {},
   "outputs": [
    {
     "data": {
      "text/plain": [
       "15"
      ]
     },
     "execution_count": 16,
     "metadata": {},
     "output_type": "execute_result"
    }
   ],
   "source": [
    "monster = [\"                  # \",\n",
    "           \"#    ##    ##    ###\",\n",
    "           \" #  #  #  #  #  #   \"] |> x -> collect.(x)\n",
    "monster_pounds = count(x -> x == '#', reduce(vcat, monster))"
   ]
  },
  {
   "cell_type": "code",
   "execution_count": 17,
   "metadata": {},
   "outputs": [
    {
     "data": {
      "text/plain": [
       "3-element Array{Array{Tuple{Int64,Char},1},1}:\n",
       " [(18, '#')]\n",
       " [(0, '#'), (5, '#'), (6, '#'), (11, '#'), (12, '#'), (17, '#'), (18, '#'), (19, '#')]\n",
       " [(1, '#'), (4, '#'), (7, '#'), (10, '#'), (13, '#'), (16, '#')]"
      ]
     },
     "execution_count": 17,
     "metadata": {},
     "output_type": "execute_result"
    }
   ],
   "source": [
    "# 0-based indices (offset)\n",
    "monster_outline = @pipe collect.(enumerate.(monster)) |> map.(x -> (x[1] - 1, x[2]), _) |> filter.(x -> x[2] == '#', _)"
   ]
  },
  {
   "cell_type": "code",
   "execution_count": 23,
   "metadata": {},
   "outputs": [
    {
     "data": {
      "text/plain": [
       "find_monsters (generic function with 1 method)"
      ]
     },
     "execution_count": 23,
     "metadata": {},
     "output_type": "execute_result"
    }
   ],
   "source": [
    "function monster_at(pics, j, i)\n",
    "    sj, si = size(pics)\n",
    "    for (i_offset, row) in enumerate(monster_outline)\n",
    "        for (j_offset, c) in row\n",
    "            if i + i_offset - 1 > sj || j + j_offset > sj\n",
    "                return false\n",
    "            end\n",
    "            if pics[j + j_offset, i + i_offset - 1] != c\n",
    "                return false\n",
    "            end\n",
    "        end\n",
    "    end\n",
    "    return true\n",
    "end\n",
    "\n",
    "function find_monsters(joined)\n",
    "    sz::Int = size(joined)[1]\n",
    "    monsters = 0\n",
    "    for j in 1:sz\n",
    "        for i in 1:sz\n",
    "            if monster_at(joined, j, i)\n",
    "                monsters += 1\n",
    "            end\n",
    "        end\n",
    "    end\n",
    "    monsters\n",
    "end"
   ]
  },
  {
   "cell_type": "code",
   "execution_count": 25,
   "metadata": {},
   "outputs": [
    {
     "data": {
      "text/plain": [
       "find_all (generic function with 1 method)"
      ]
     },
     "execution_count": 25,
     "metadata": {},
     "output_type": "execute_result"
    }
   ],
   "source": [
    "function find_all(joined)\n",
    "    for i in 0:3\n",
    "        r = rotr90(joined, i)\n",
    "        found = find_monsters(r)\n",
    "        if found > 0\n",
    "            return found\n",
    "        end\n",
    "\n",
    "        r3 = reverse(r; dims=1)\n",
    "        found = find_monsters(r3)\n",
    "        if found > 0\n",
    "            return found\n",
    "        end\n",
    "    end\n",
    "end"
   ]
  },
  {
   "cell_type": "code",
   "execution_count": 29,
   "metadata": {},
   "outputs": [
    {
     "data": {
      "text/plain": [
       "1993"
      ]
     },
     "execution_count": 29,
     "metadata": {},
     "output_type": "execute_result"
    }
   ],
   "source": [
    "count(x -> x == '#', joined) - find_all(joined) * 15"
   ]
  }
 ],
 "metadata": {
  "kernelspec": {
   "display_name": "Julia 1.4.1",
   "language": "julia",
   "name": "julia-1.4"
  },
  "language_info": {
   "file_extension": ".jl",
   "mimetype": "application/julia",
   "name": "julia",
   "version": "1.4.1"
  }
 },
 "nbformat": 4,
 "nbformat_minor": 4
}
