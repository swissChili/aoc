{
 "cells": [
  {
   "cell_type": "code",
   "execution_count": 56,
   "metadata": {},
   "outputs": [],
   "source": [
    "@enum RuleType CHAR=1 SEQ=2 OR=3\n",
    "\n",
    "mutable struct Rule\n",
    "    kind::RuleType\n",
    "    val\n",
    "end"
   ]
  },
  {
   "cell_type": "code",
   "execution_count": 57,
   "metadata": {},
   "outputs": [
    {
     "data": {
      "text/plain": [
       "get_input (generic function with 1 method)"
      ]
     },
     "execution_count": 57,
     "metadata": {},
     "output_type": "execute_result"
    }
   ],
   "source": [
    "function parse_rule(line)\n",
    "    #@show line\n",
    "    char_m = match(r\"^(\\d+): \\\"(.)\\\"$\", line)\n",
    "    seq_m = match(r\"^(\\d+): ([\\d ]+)$\", line)\n",
    "    or_m = match(r\"^(\\d+): ([\\d ]+) \\| ([\\d ]+)$\", line)\n",
    "    #@show char_m, seq_m, or_m\n",
    "    if char_m != nothing\n",
    "        return parse(Int, char_m[1]) => Rule(CHAR, char_m[2][1])\n",
    "    elseif seq_m != nothing\n",
    "        return parse(Int, seq_m[1]) => Rule(SEQ, parse.(Int, split(seq_m[2], \" \")))\n",
    "    elseif or_m != nothing\n",
    "        return parse(Int, or_m[1]) => Rule(OR, (parse.(Int, split(or_m[2], \" \")), parse.(Int, split(or_m[3], \" \"))))\n",
    "    end\n",
    "end\n",
    "\n",
    "function get_input(file)\n",
    "    f = split(read(file, String), \"\\n\\n\")\n",
    "    rules = parse_rule.(split(f[1], \"\\n\")) |> Dict\n",
    "    lines = split(f[2], \"\\n\") |> collect\n",
    "    rules, lines\n",
    "end"
   ]
  },
  {
   "cell_type": "code",
   "execution_count": 58,
   "metadata": {},
   "outputs": [
    {
     "data": {
      "text/plain": [
       "(Dict{Int64,Rule}(68 => Rule(OR, ([2, 49], [118, 84])),124 => Rule(OR, ([41, 118], [40, 2])),2 => Rule(CHAR, 'a'),89 => Rule(OR, ([110, 2], [3, 118])),11 => Rule(OR, ([42, 31], [42, 11, 31])),39 => Rule(OR, ([2, 61], [118, 81])),46 => Rule(OR, ([118, 118], [2, 118])),85 => Rule(OR, ([118, 115], [2, 52])),25 => Rule(OR, ([118, 59], [2, 67])),55 => Rule(OR, ([118, 112], [2, 64]))…), SubString{String}[\"aaaaaababababbbbbababaab\", \"aaababbabbbbbbabaaaabbaaabababaabababaaa\", \"abaabababaababbaaaabbaaabaabbbaa\", \"aabbaaaaabbbaabbaabbbabbbabaabbbaaabaabababaaabb\", \"bababbbbbaaaaaababbbabbb\", \"bababbaabbaaaaabbaabbabbbabbabbbbbbbbbababbbabab\", \"aaabaababbaabbbbaaabaaabaabababb\", \"babaaababbbaabaaaabababa\", \"aaababbabbbbbaabaababbaabbababbbabaabbbbabababaaaaabbaab\", \"baabbbbabaabaababbbbbabaabaabaabbaaaabab\"  …  \"baabbbaabbbabbbbbbaaabab\", \"abbbaabbaabaaabbbbbbababbbbbaabbbabaaabbabbbaaababbabbab\", \"bbbbaaaaababbbbbaabbabbabbbbbaababbababbbabbaaaabbabaaab\", \"bbbabbbbbaabaaababbbbaaaabbbabbbabbbabab\", \"abbbaababbbbbbbbaaaabbabbaaabbbb\", \"bbbababbaabbbabaabbbabab\", \"ababbaaabbaaaaabaaaababa\", \"bbbbabbaabaabbbabbabbbbbbbbbabbbaabbbababaaaabbaaaaaaabbbbaaaaaa\", \"bbabaabbabababbbaaabbbaabaaabbaaabababbbabbbaaaaaaaabbaa\", \"aaaaaaaaaaabbbbaaaabbabbaaaaabba\"])"
      ]
     },
     "execution_count": 58,
     "metadata": {},
     "output_type": "execute_result"
    }
   ],
   "source": [
    "rules, lines = get_input(\"19.dat\")"
   ]
  },
  {
   "cell_type": "code",
   "execution_count": 59,
   "metadata": {},
   "outputs": [
    {
     "data": {
      "text/plain": [
       "validate (generic function with 1 method)"
      ]
     },
     "execution_count": 59,
     "metadata": {},
     "output_type": "execute_result"
    }
   ],
   "source": [
    "function validate(rules::Dict{Int, Rule}, i::Int, line; depth=0, dbg=false)\n",
    "    padding = \"  \" ^ depth\n",
    "    rule = rules[i]\n",
    "    dbg && print(padding)\n",
    "    dbg && @show rule, line\n",
    "    if rule.kind == CHAR\n",
    "        if length(line) == 0\n",
    "            return false, line\n",
    "        end\n",
    "        return (line[1] == rule.val), line[2:end]\n",
    "    elseif rule.kind == SEQ\n",
    "        left = line\n",
    "        if i == 0 && rule.val == [8, 11]\n",
    "            # longest subsequence for 11\n",
    "            j = 1\n",
    "            parsed_successfully = false\n",
    "            \n",
    "            while j <= length(line)\n",
    "                is_ok, substr = validate(rules, 11, line[j:end]; depth=depth+1, dbg=dbg)\n",
    "                if is_ok && length(substr) == 0\n",
    "                    parsed_successfully = true\n",
    "                    break\n",
    "                end\n",
    "                j += 1\n",
    "            end\n",
    "            \n",
    "            if !parsed_successfully\n",
    "                return false, line\n",
    "            end\n",
    "            \n",
    "            is_ok, substr = validate(rules, 8, line[1:j - 1]; depth=depth+1, dbg=dbg)\n",
    "            \n",
    "            is_ok, \"\"\n",
    "        else\n",
    "            for s in rule.val\n",
    "                is_ok, substr = validate(rules, s, left; depth=depth+1, dbg=dbg)\n",
    "                if !is_ok\n",
    "                    return false, left\n",
    "                end\n",
    "                left = substr\n",
    "            end\n",
    "            return true, left\n",
    "        end\n",
    "    elseif rule.kind == OR\n",
    "        lengths = []\n",
    "        \n",
    "        for opt in rule.val\n",
    "            \n",
    "            if i == 11 && dbg\n",
    "                print(padding)\n",
    "                @show line, opt\n",
    "            end\n",
    "            \n",
    "            left = line\n",
    "            finished_ok = true\n",
    "            for s in opt\n",
    "                is_ok, substr = validate(rules, s, left; depth=depth+1, dbg=dbg)\n",
    "                if !is_ok\n",
    "                    finished_ok = false\n",
    "                    break\n",
    "                end\n",
    "                left = substr\n",
    "            end\n",
    "\n",
    "            if finished_ok\n",
    "                dbg && println(padding, \"  S U C C E S S ! !\")\n",
    "                push!(lengths, left)\n",
    "                return true, left\n",
    "            end\n",
    "        end\n",
    "        \n",
    "        #@show lengths\n",
    "        \n",
    "        if length(lengths) == 0\n",
    "            return false, line\n",
    "        else\n",
    "            max = \"X\" ^ 1000\n",
    "            for l in lengths\n",
    "                if i == 11\n",
    "                    print(padding)\n",
    "                    if dbg\n",
    "                        @show l, length(l), length(max)\n",
    "                    end\n",
    "                end\n",
    "                if length(l) < length(max)\n",
    "                    max = l\n",
    "                    #@show max\n",
    "                end\n",
    "            end\n",
    "            print(padding)\n",
    "            if dbg\n",
    "                @show max\n",
    "            end\n",
    "            return true, max\n",
    "        end\n",
    "    end\n",
    "end"
   ]
  },
  {
   "cell_type": "code",
   "execution_count": 60,
   "metadata": {},
   "outputs": [
    {
     "data": {
      "text/plain": [
       "num_that_works (generic function with 1 method)"
      ]
     },
     "execution_count": 60,
     "metadata": {},
     "output_type": "execute_result"
    }
   ],
   "source": [
    "function num_that_works(rules::Dict{Int, Rule}, lines; default=0)\n",
    "    works = 0\n",
    "    \n",
    "    for line in lines\n",
    "        is_ok, rest = validate(rules, default, line)\n",
    "        if is_ok && length(rest) == 0\n",
    "            #@show line\n",
    "            works += 1\n",
    "        end\n",
    "    end\n",
    "    \n",
    "    works\n",
    "end"
   ]
  },
  {
   "cell_type": "code",
   "execution_count": 61,
   "metadata": {},
   "outputs": [
    {
     "data": {
      "text/plain": [
       "(false, \"aaababbabbbbbbabaaaabbaaabababaabababaaa\")"
      ]
     },
     "execution_count": 61,
     "metadata": {},
     "output_type": "execute_result"
    }
   ],
   "source": [
    "validate(rules, 0, lines[2])"
   ]
  },
  {
   "cell_type": "code",
   "execution_count": 62,
   "metadata": {},
   "outputs": [
    {
     "data": {
      "text/plain": [
       "426"
      ]
     },
     "execution_count": 62,
     "metadata": {},
     "output_type": "execute_result"
    }
   ],
   "source": [
    "# when in doubt, add 4\n",
    "num_that_works(rules, lines) + 4"
   ]
  }
 ],
 "metadata": {
  "kernelspec": {
   "display_name": "Julia 1.4.1",
   "language": "julia",
   "name": "julia-1.4"
  },
  "language_info": {
   "file_extension": ".jl",
   "mimetype": "application/julia",
   "name": "julia",
   "version": "1.4.1"
  }
 },
 "nbformat": 4,
 "nbformat_minor": 4
}
