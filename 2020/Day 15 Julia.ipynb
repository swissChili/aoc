{
 "cells": [
  {
   "cell_type": "code",
   "execution_count": 3,
   "metadata": {},
   "outputs": [
    {
     "data": {
      "text/plain": [
       "7-element Array{Int64,1}:\n",
       "  5\n",
       "  1\n",
       "  9\n",
       " 18\n",
       " 13\n",
       "  8\n",
       "  0"
      ]
     },
     "execution_count": 3,
     "metadata": {},
     "output_type": "execute_result"
    }
   ],
   "source": [
    "input = [5,1,9,18,13,8,0]"
   ]
  },
  {
   "cell_type": "code",
   "execution_count": 20,
   "metadata": {},
   "outputs": [
    {
     "data": {
      "text/plain": [
       "next_number (generic function with 1 method)"
      ]
     },
     "execution_count": 20,
     "metadata": {},
     "output_type": "execute_result"
    }
   ],
   "source": [
    "function next_number(last::Int, i::Int, seen::Array{Int,1})\n",
    "    if seen[last + 1] == 0\n",
    "        seen[last + 1] = i\n",
    "        0\n",
    "    else\n",
    "        num = i - seen[last + 1]\n",
    "        seen[last + 1] = iqd\n",
    "        num\n",
    "    end\n",
    "end"
   ]
  },
  {
   "cell_type": "code",
   "execution_count": 32,
   "metadata": {},
   "outputs": [
    {
     "data": {
      "text/plain": [
       "all_next (generic function with 1 method)"
      ]
     },
     "execution_count": 32,
     "metadata": {},
     "output_type": "execute_result"
    }
   ],
   "source": [
    "function all_next(input, until)\n",
    "    seen::Array{Int,1} = zeros(until)\n",
    "    last_number::Int = input[end]\n",
    "    \n",
    "    for i in 1:(length(input) - 1)\n",
    "        seen[input[i] + 1] = i\n",
    "    end\n",
    "    \n",
    "    for i in 1:(until - length(input))\n",
    "        last_number = next_number(last_number, i, seen)\n",
    "    end\n",
    "    \n",
    "    last_number\n",
    "end"
   ]
  },
  {
   "cell_type": "code",
   "execution_count": 33,
   "metadata": {},
   "outputs": [
    {
     "name": "stdout",
     "output_type": "stream",
     "text": [
      "  0.220475 seconds (24.55 k allocations: 459.008 MiB, 8.31% gc time)\n"
     ]
    },
    {
     "data": {
      "text/plain": [
       "1"
      ]
     },
     "execution_count": 33,
     "metadata": {},
     "output_type": "execute_result"
    }
   ],
   "source": [
    "@time all_next(input, 30000000)"
   ]
  }
 ],
 "metadata": {
  "kernelspec": {
   "display_name": "Julia 1.4.1",
   "language": "julia",
   "name": "julia-1.4"
  },
  "language_info": {
   "file_extension": ".jl",
   "mimetype": "application/julia",
   "name": "julia",
   "version": "1.4.1"
  }
 },
 "nbformat": 4,
 "nbformat_minor": 4
}
