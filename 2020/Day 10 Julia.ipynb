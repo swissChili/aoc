{
 "cells": [
  {
   "cell_type": "code",
   "execution_count": 8,
   "metadata": {},
   "outputs": [
    {
     "data": {
      "text/plain": [
       "read_input (generic function with 1 method)"
      ]
     },
     "execution_count": 8,
     "metadata": {},
     "output_type": "execute_result"
    }
   ],
   "source": [
    "using Memoize\n",
    "\n",
    "read_input(file) = open(file) do f\n",
    "    sort([parse(Int64, i) for i in eachline(f)])\n",
    "end"
   ]
  },
  {
   "cell_type": "code",
   "execution_count": 9,
   "metadata": {},
   "outputs": [
    {
     "data": {
      "text/plain": [
       "107-element Array{Int64,1}:\n",
       "   1\n",
       "   2\n",
       "   3\n",
       "   6\n",
       "   9\n",
       "  10\n",
       "  11\n",
       "  12\n",
       "  15\n",
       "  16\n",
       "  17\n",
       "  20\n",
       "  21\n",
       "   ⋮\n",
       " 156\n",
       " 157\n",
       " 158\n",
       " 161\n",
       " 162\n",
       " 163\n",
       " 164\n",
       " 167\n",
       " 168\n",
       " 169\n",
       " 170\n",
       " 171"
      ]
     },
     "execution_count": 9,
     "metadata": {},
     "output_type": "execute_result"
    }
   ],
   "source": [
    "input = read_input(\"10.dat\")"
   ]
  },
  {
   "cell_type": "code",
   "execution_count": 10,
   "metadata": {},
   "outputs": [
    {
     "data": {
      "text/plain": [
       "174"
      ]
     },
     "execution_count": 10,
     "metadata": {},
     "output_type": "execute_result"
    }
   ],
   "source": [
    "target = input[end] + 3"
   ]
  },
  {
   "cell_type": "code",
   "execution_count": 11,
   "metadata": {},
   "outputs": [
    {
     "data": {
      "text/plain": [
       "paths_to_end (generic function with 1 method)"
      ]
     },
     "execution_count": 11,
     "metadata": {},
     "output_type": "execute_result"
    }
   ],
   "source": [
    "@memoize function paths_to_end(current, input, target)\n",
    "    if current == target\n",
    "        return 1\n",
    "    end\n",
    "    \n",
    "    p = 0\n",
    "    \n",
    "    for i in 1:3\n",
    "        if in(current + i, input) || current + i == target\n",
    "            p += paths_to_end(current + i, input, target)\n",
    "        end\n",
    "    end\n",
    "    \n",
    "    p\n",
    "end"
   ]
  },
  {
   "cell_type": "code",
   "execution_count": 12,
   "metadata": {},
   "outputs": [
    {
     "data": {
      "text/plain": [
       "442136281481216"
      ]
     },
     "execution_count": 12,
     "metadata": {},
     "output_type": "execute_result"
    }
   ],
   "source": [
    "paths_to_end(0, input, target)"
   ]
  },
  {
   "cell_type": "code",
   "execution_count": null,
   "metadata": {},
   "outputs": [],
   "source": []
  }
 ],
 "metadata": {
  "kernelspec": {
   "display_name": "Julia 1.4.1",
   "language": "julia",
   "name": "julia-1.4"
  },
  "language_info": {
   "file_extension": ".jl",
   "mimetype": "application/julia",
   "name": "julia",
   "version": "1.4.1"
  }
 },
 "nbformat": 4,
 "nbformat_minor": 4
}
