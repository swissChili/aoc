{
 "cells": [
  {
   "cell_type": "code",
   "execution_count": 42,
   "metadata": {},
   "outputs": [
    {
     "data": {
      "text/plain": [
       "get_input (generic function with 1 method)"
      ]
     },
     "execution_count": 42,
     "metadata": {},
     "output_type": "execute_result"
    }
   ],
   "source": [
    "using Pipe: @pipe\n",
    "\n",
    "get_input(file) = open(file) do f\n",
    "    @pipe eachline(f) |> collect |> replace.(_, \" \" => \"\") |> collect.(_)\n",
    "end"
   ]
  },
  {
   "cell_type": "code",
   "execution_count": 43,
   "metadata": {},
   "outputs": [
    {
     "data": {
      "text/plain": [
       "380-element Array{Array{Char,1},1}:\n",
       " ['7', '+', '(', '9', '*', '8', '+', '5', '+', '5'  …  '+', '7', ')', ')', '*', '2', '+', '6', '*', '4']\n",
       " ['9', '*', '4', '*', '(', '(', '9', '*', '8', '+'  …  '9', '+', '2', '+', '2', ')', '*', '5', '*', '6']\n",
       " ['3', '*', '(', '(', '9', '*', '3', '*', '8', '*'  …  '8', ')', '*', '2', '*', '9', '+', '4', '*', '8']\n",
       " ['(', '3', '+', '4', '+', '4', '*', '4', '+', '9'  …  '2', '*', '8', ')', '*', '9', '+', '7', '*', '8']\n",
       " ['9', '+', '6', '+', '6', '+', '9', '*', '9', '*', '5']\n",
       " ['(', '3', '*', '5', '+', '(', '4', '+', '3', '*'  …  '(', '4', '+', '5', '*', '2', ')', '*', '7', ')']\n",
       " ['6', '+', '(', '5', '+', '8', '*', '(', '6', '*'  …  '(', '5', '*', '9', ')', ')', '*', '2', '+', '2']\n",
       " ['(', '6', '+', '8', '+', '(', '6', '*', '6', '+'  …  '(', '8', '+', '8', '+', '9', ')', ')', '+', '2']\n",
       " ['9', '+', '(', '4', '+', '6', '+', '5', '*', '9', '*', '4', ')']\n",
       " ['(', '5', '*', '3', '*', '4', '*', '4', '+', '('  …  '*', '4', '*', '5', ')', ')', '*', '2', '*', '9']\n",
       " ['(', '2', '*', '3', '*', '9', ')', '*', '2']\n",
       " ['6', '+', '(', '4', '+', '8', '+', '2', ')']\n",
       " ['(', '9', '*', '7', '+', '(', '2', '+', '9', '*'  …  '+', '4', '+', '3', ')', '+', '4', ')', '*', '9']\n",
       " ⋮\n",
       " ['2', '*', '6', '*', '7', '+', '(', '5', '*', '9', ')', '*', '5']\n",
       " ['(', '5', '+', '(', '4', '+', '7', '*', '9', '*'  …  '*', '6', ')', '+', '5', '*', '8', ')', '*', '4']\n",
       " ['9', '*', '8', '+', '(', '6', '*', '5', ')', '*', '(', '6', '+', '7', ')']\n",
       " ['(', '3', '*', '(', '2', '*', '4', '+', '9', '*'  …  '(', '5', '+', '9', ')', '*', '2', '+', '2', ')']\n",
       " ['2', '*', '(', '2', '+', '(', '2', '*', '9', '+', '7', '*', '6', '+', '8', ')', ')']\n",
       " ['(', '5', '+', '2', '+', '6', '+', '2', '+', '6'  …  '*', '(', '2', '+', '5', '+', '7', ')', '*', '6']\n",
       " ['5', '+', '4', '+', '3', '+', '2', '+', '(', '3', '+', '4', '+', '3', ')']\n",
       " ['(', '(', '6', '*', '9', '+', '7', '+', '7', ')'  …  '*', '6', ')', '*', '3', '*', '3', '*', '8', ')']\n",
       " ['5', '*', '8', '+', '(', '7', '+', '2', '+', '6'  …  '5', '*', '6', '*', '6', '*', '3', ')', '+', '8']\n",
       " ['6', '+', '(', '7', '*', '4', '+', '4', '*', '7'  …  '7', ')', '+', '9', '+', '5', '*', '7', '*', '5']\n",
       " ['3', '+', '2', '+', '8', '+', '(', '4', '+', '9'  …  '+', '9', '+', '5', ')', '*', '5', ')', '+', '6']\n",
       " ['3', '*', '9', '*', '4', '*', '(', '5', '*', '4', '*', '(', '8', '+', '3', ')', ')']"
      ]
     },
     "execution_count": 43,
     "metadata": {},
     "output_type": "execute_result"
    }
   ],
   "source": [
    "input = get_input(\"18.dat\")"
   ]
  },
  {
   "cell_type": "code",
   "execution_count": 44,
   "metadata": {},
   "outputs": [
    {
     "data": {
      "text/plain": [
       "erpn (generic function with 1 method)"
      ]
     },
     "execution_count": 44,
     "metadata": {},
     "output_type": "execute_result"
    }
   ],
   "source": [
    "function sr(s; p=false)\n",
    "    out = []\n",
    "    ops = []\n",
    "    \n",
    "    for t in s\n",
    "        if t in collect(\"0123456789\")\n",
    "            push!(out, parse(Int, t))\n",
    "        elseif t in ['*', '+']\n",
    "            while length(ops) > 0 && (p ? t == '*' && ops[end] == '+' : ops[end] in ['*', '+'])\n",
    "                push!(out, pop!(ops))\n",
    "            end\n",
    "            push!(ops, t)\n",
    "        elseif t == '('\n",
    "            push!(ops, t)\n",
    "        elseif t == ')'\n",
    "            while length(ops) > 0 && ops[end] != '('\n",
    "                push!(out, pop!(ops))\n",
    "            end\n",
    "            pop!(ops)\n",
    "        end\n",
    "    end\n",
    "    \n",
    "    while length(ops) > 0\n",
    "        push!(out, pop!(ops))\n",
    "    end\n",
    "    \n",
    "    out\n",
    "end\n",
    "\n",
    "function erpn(arr)\n",
    "    stack = []\n",
    "    for a in arr\n",
    "        if isa(a, Int)\n",
    "            push!(stack, a)\n",
    "        elseif isa(a, Char)\n",
    "            f = a == '*' ? (*) : (+)\n",
    "            push!(stack, f(pop!(stack), pop!(stack)))\n",
    "        end\n",
    "    end\n",
    "    stack[end]\n",
    "end"
   ]
  },
  {
   "cell_type": "code",
   "execution_count": 45,
   "metadata": {},
   "outputs": [
    {
     "name": "stdout",
     "output_type": "stream",
     "text": [
      "(silver, gold) = (4940631886147, 283582817678281)\n"
     ]
    },
    {
     "data": {
      "text/plain": [
       "(4940631886147, 283582817678281)"
      ]
     },
     "execution_count": 45,
     "metadata": {},
     "output_type": "execute_result"
    }
   ],
   "source": [
    "silver = reduce(+, erpn.(sr.(input)))\n",
    "gold = reduce(+, erpn.(sr.(input; p=true)))\n",
    "@show silver, gold"
   ]
  }
 ],
 "metadata": {
  "kernelspec": {
   "display_name": "Julia 1.4.1",
   "language": "julia",
   "name": "julia-1.4"
  },
  "language_info": {
   "file_extension": ".jl",
   "mimetype": "application/julia",
   "name": "julia",
   "version": "1.4.1"
  }
 },
 "nbformat": 4,
 "nbformat_minor": 4
}
