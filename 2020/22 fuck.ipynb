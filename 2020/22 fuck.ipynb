{
 "cells": [
  {
   "cell_type": "code",
   "execution_count": 2,
   "metadata": {},
   "outputs": [
    {
     "name": "stdout",
     "output_type": "stream",
     "text": [
      "part2 291\n"
     ]
    }
   ],
   "source": [
    "decks = [], []\n",
    "state = 0\n",
    "with open('22-t.dat') as fp:\n",
    "    for line in fp:\n",
    "        line = line.strip()\n",
    "        if not line:\n",
    "            assert not state\n",
    "            state = 1\n",
    "            continue\n",
    "        if \"Player\" in line:\n",
    "            continue\n",
    "        decks[state].append(int(line))\n",
    "# part1\n",
    "if 0:\n",
    "    while decks[0] and decks[1]:\n",
    "        card1 = decks[0].pop(0)\n",
    "        card2 = decks[1].pop(0)\n",
    "        if card1 > card2:\n",
    "            decks[0].append(card1)\n",
    "            decks[0].append(card2)\n",
    "        else:\n",
    "            decks[1].append(card2)\n",
    "            decks[1].append(card1)\n",
    "    score = 0\n",
    "    for i in range(len(decks[0])):\n",
    "        i+=1\n",
    "        score += decks[0][-i] * i\n",
    "    print('part1', score)\n",
    "\n",
    "def combat(deck1, deck2):\n",
    "    happened = set()\n",
    "    round = 0\n",
    "    while True:\n",
    "        round += 1\n",
    "        if not deck1:\n",
    "            result = 2, deck2\n",
    "            break\n",
    "        if not deck2:\n",
    "            result = 1, deck1\n",
    "            break\n",
    "        state = (deck1, deck2)\n",
    "        if state in happened:\n",
    "            result =  1, deck1\n",
    "            break\n",
    "        happened.add(state)\n",
    "        card1 = deck1[0]\n",
    "        deck1 = deck1[1:]\n",
    "        card2 = deck2[0]\n",
    "        deck2 = deck2[1:]\n",
    "        if card1 <= len(deck1) and card2 <= len(deck2):\n",
    "            winner, _ = combat(deck1[:card1], deck2[:card2])\n",
    "            if winner == 1:\n",
    "                deck1 = deck1 + (card1, card2)\n",
    "            else:\n",
    "                deck2 = deck2 + (card2, card1)\n",
    "            continue\n",
    "        if card1 > card2:\n",
    "            deck1 = deck1 + (card1, card2)\n",
    "        else:\n",
    "            deck2 = deck2 + (card2, card1)\n",
    "    return result\n",
    "\n",
    "#part2\n",
    "winner, deck = combat(tuple(decks[0]), tuple(decks[1]))\n",
    "score = 0\n",
    "for i in range(len(deck)):\n",
    "    i+=1\n",
    "    score += deck[-i] * i\n",
    "print('part2', score)"
   ]
  }
 ],
 "metadata": {
  "kernelspec": {
   "display_name": "Python 3",
   "language": "python",
   "name": "python3"
  },
  "language_info": {
   "codemirror_mode": {
    "name": "ipython",
    "version": 3
   },
   "file_extension": ".py",
   "mimetype": "text/x-python",
   "name": "python",
   "nbconvert_exporter": "python",
   "pygments_lexer": "ipython3",
   "version": "3.8.5"
  }
 },
 "nbformat": 4,
 "nbformat_minor": 4
}
