{
 "cells": [
  {
   "cell_type": "code",
   "execution_count": 2,
   "metadata": {},
   "outputs": [],
   "source": [
    "using Memoize"
   ]
  },
  {
   "cell_type": "code",
   "execution_count": 20,
   "metadata": {},
   "outputs": [
    {
     "data": {
      "text/plain": [
       "getinput (generic function with 1 method)"
      ]
     },
     "execution_count": 20,
     "metadata": {},
     "output_type": "execute_result"
    }
   ],
   "source": [
    "getinput(file) = open(file) do f\n",
    "    chars = [collect(x) for x in eachline(f)]\n",
    "    reduce(hcat, chars)\n",
    "end"
   ]
  },
  {
   "cell_type": "code",
   "execution_count": 25,
   "metadata": {},
   "outputs": [
    {
     "data": {
      "text/plain": [
       "10×10 Array{Char,2}:\n",
       " 'L'  'L'  'L'  'L'  'L'  'L'  '.'  'L'  'L'  'L'\n",
       " '.'  'L'  '.'  'L'  '.'  '.'  '.'  'L'  '.'  '.'\n",
       " 'L'  'L'  'L'  'L'  'L'  'L'  'L'  'L'  'L'  'L'\n",
       " 'L'  'L'  '.'  'L'  'L'  'L'  '.'  'L'  'L'  'L'\n",
       " '.'  'L'  'L'  '.'  '.'  'L'  'L'  'L'  'L'  'L'\n",
       " 'L'  'L'  '.'  'L'  'L'  'L'  '.'  'L'  'L'  'L'\n",
       " 'L'  'L'  '.'  'L'  'L'  'L'  '.'  'L'  'L'  'L'\n",
       " '.'  '.'  'L'  '.'  '.'  '.'  '.'  'L'  'L'  '.'\n",
       " 'L'  'L'  '.'  'L'  'L'  'L'  '.'  'L'  '.'  'L'\n",
       " 'L'  'L'  '.'  'L'  'L'  'L'  '.'  'L'  'L'  'L'"
      ]
     },
     "execution_count": 25,
     "metadata": {},
     "output_type": "execute_result"
    }
   ],
   "source": [
    "input = getinput(\"11-t.dat\")"
   ]
  },
  {
   "cell_type": "code",
   "execution_count": 84,
   "metadata": {},
   "outputs": [
    {
     "ename": "LoadError",
     "evalue": "syntax: incomplete: \"function\" at none:1 requires end",
     "output_type": "error",
     "traceback": [
      "syntax: incomplete: \"function\" at none:1 requires end",
      ""
     ]
    }
   ],
   "source": [
    "function get_visible(input, i, j)\n",
    "    directions = [\n",
    "        (1,1),\n",
    "        (1,0),\n",
    "        (0,1),\n",
    "        (-1,-1),\n",
    "        (-1,0),\n",
    "        (0,-1),\n",
    "        (-1,1),\n",
    "        (1,-1)\n",
    "    ]\n",
    "end"
   ]
  },
  {
   "cell_type": "code",
   "execution_count": 82,
   "metadata": {},
   "outputs": [
    {
     "data": {
      "text/plain": [
       "next_state (generic function with 1 method)"
      ]
     },
     "execution_count": 82,
     "metadata": {},
     "output_type": "execute_result"
    }
   ],
   "source": [
    "function next_state(input)\n",
    "    w, h = axes(input)\n",
    "    \n",
    "    for i in w\n",
    "        for j in h\n",
    "            visible = get_visible(input, i, j)\n",
    "        end\n",
    "    end\n",
    "end"
   ]
  },
  {
   "cell_type": "code",
   "execution_count": 83,
   "metadata": {},
   "outputs": [
    {
     "name": "stdout",
     "output_type": "stream",
     "text": [
      "input[i, j] = 'L'\n",
      "input[i, j] = 'L'\n",
      "input[i, j] = 'L'\n",
      "input[i, j] = 'L'\n",
      "input[i, j] = 'L'\n",
      "input[i, j] = 'L'\n",
      "input[i, j] = '.'\n",
      "input[i, j] = 'L'\n",
      "input[i, j] = 'L'\n",
      "input[i, j] = 'L'\n",
      "input[i, j] = '.'\n",
      "input[i, j] = 'L'\n",
      "input[i, j] = '.'\n",
      "input[i, j] = 'L'\n",
      "input[i, j] = '.'\n",
      "input[i, j] = '.'\n",
      "input[i, j] = '.'\n",
      "input[i, j] = 'L'\n",
      "input[i, j] = '.'\n",
      "input[i, j] = '.'\n",
      "input[i, j] = 'L'\n",
      "input[i, j] = 'L'\n",
      "input[i, j] = 'L'\n",
      "input[i, j] = 'L'\n",
      "input[i, j] = 'L'\n",
      "input[i, j] = 'L'\n",
      "input[i, j] = 'L'\n",
      "input[i, j] = 'L'\n",
      "input[i, j] = 'L'\n",
      "input[i, j] = 'L'\n",
      "input[i, j] = 'L'\n",
      "input[i, j] = 'L'\n",
      "input[i, j] = '.'\n",
      "input[i, j] = 'L'\n",
      "input[i, j] = 'L'\n",
      "input[i, j] = 'L'\n",
      "input[i, j] = '.'\n",
      "input[i, j] = 'L'\n",
      "input[i, j] = 'L'\n",
      "input[i, j] = 'L'\n",
      "input[i, j] = '.'\n",
      "input[i, j] = 'L'\n",
      "input[i, j] = 'L'\n",
      "input[i, j] = '.'\n",
      "input[i, j] = '.'\n",
      "input[i, j] = 'L'\n",
      "input[i, j] = 'L'\n",
      "input[i, j] = 'L'\n",
      "input[i, j] = 'L'\n",
      "input[i, j] = 'L'\n",
      "input[i, j] = 'L'\n",
      "input[i, j] = 'L'\n",
      "input[i, j] = '.'\n",
      "input[i, j] = 'L'\n",
      "input[i, j] = 'L'\n",
      "input[i, j] = 'L'\n",
      "input[i, j] = '.'\n",
      "input[i, j] = 'L'\n",
      "input[i, j] = 'L'\n",
      "input[i, j] = 'L'\n",
      "input[i, j] = 'L'\n",
      "input[i, j] = 'L'\n",
      "input[i, j] = '.'\n",
      "input[i, j] = 'L'\n",
      "input[i, j] = 'L'\n",
      "input[i, j] = 'L'\n",
      "input[i, j] = '.'\n",
      "input[i, j] = 'L'\n",
      "input[i, j] = 'L'\n",
      "input[i, j] = 'L'\n",
      "input[i, j] = '.'\n",
      "input[i, j] = '.'\n",
      "input[i, j] = 'L'\n",
      "input[i, j] = '.'\n",
      "input[i, j] = '.'\n",
      "input[i, j] = '.'\n",
      "input[i, j] = '.'\n",
      "input[i, j] = 'L'\n",
      "input[i, j] = 'L'\n",
      "input[i, j] = '.'\n",
      "input[i, j] = 'L'\n",
      "input[i, j] = 'L'\n",
      "input[i, j] = '.'\n",
      "input[i, j] = 'L'\n",
      "input[i, j] = 'L'\n",
      "input[i, j] = 'L'\n",
      "input[i, j] = '.'\n",
      "input[i, j] = 'L'\n",
      "input[i, j] = '.'\n",
      "input[i, j] = 'L'\n",
      "input[i, j] = 'L'\n",
      "input[i, j] = 'L'\n",
      "input[i, j] = '.'\n",
      "input[i, j] = 'L'\n",
      "input[i, j] = 'L'\n",
      "input[i, j] = 'L'\n",
      "input[i, j] = '.'\n",
      "input[i, j] = 'L'\n",
      "input[i, j] = 'L'\n",
      "input[i, j] = 'L'\n"
     ]
    }
   ],
   "source": [
    "next_state(input)"
   ]
  }
 ],
 "metadata": {
  "kernelspec": {
   "display_name": "Julia 1.4.1",
   "language": "julia",
   "name": "julia-1.4"
  },
  "language_info": {
   "file_extension": ".jl",
   "mimetype": "application/julia",
   "name": "julia",
   "version": "1.4.1"
  }
 },
 "nbformat": 4,
 "nbformat_minor": 4
}
