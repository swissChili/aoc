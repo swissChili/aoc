{
 "cells": [
  {
   "cell_type": "code",
   "execution_count": 138,
   "metadata": {},
   "outputs": [
    {
     "data": {
      "text/plain": [
       "parse_tile (generic function with 1 method)"
      ]
     },
     "execution_count": 138,
     "metadata": {},
     "output_type": "execute_result"
    }
   ],
   "source": [
    "using Pipe\n",
    "\n",
    "parse_tile(line) = @pipe replace(line, r\"([ns][ew]|e|w)\" => s\" \\1 \") |> split(_, \" \"; keepempty=false)"
   ]
  },
  {
   "cell_type": "code",
   "execution_count": 139,
   "metadata": {},
   "outputs": [
    {
     "data": {
      "text/plain": [
       "flip_tile (generic function with 1 method)"
      ]
     },
     "execution_count": 139,
     "metadata": {},
     "output_type": "execute_result"
    }
   ],
   "source": [
    "tiles, offsets, input = Dict(), Dict(\n",
    "    \"e\"  => (-1,  1,  0),\n",
    "    \"w\"  => ( 1, -1,  0),\n",
    "    \"sw\" => ( 1,  0, -1),\n",
    "    \"se\" => ( 0,  1, -1),\n",
    "    \"nw\" => ( 0, -1,  1),\n",
    "    \"ne\" => (-1,  0,  1)\n",
    "), parse_tile.(open(collect∘eachline, \"24.dat\"))\n",
    "\n",
    "tile_coords(moves) = reduce((a, m) -> broadcast(+, a, offsets[m]), moves; init=(0,0,0))\n",
    "flip_tile(coords) = tiles[coords] = !get(tiles, coords, false)"
   ]
  },
  {
   "cell_type": "code",
   "execution_count": 140,
   "metadata": {},
   "outputs": [],
   "source": [
    "flip_tile.(tile_coords.(input));"
   ]
  },
  {
   "cell_type": "code",
   "execution_count": 141,
   "metadata": {},
   "outputs": [
    {
     "name": "stdout",
     "output_type": "stream",
     "text": [
      "(tiles |> values) |> count = 465\n"
     ]
    },
    {
     "data": {
      "text/plain": [
       "465"
      ]
     },
     "execution_count": 141,
     "metadata": {},
     "output_type": "execute_result"
    }
   ],
   "source": [
    "@show tiles |> values |> count"
   ]
  },
  {
   "cell_type": "code",
   "execution_count": 142,
   "metadata": {},
   "outputs": [
    {
     "data": {
      "text/plain": [
       "all_next (generic function with 1 method)"
      ]
     },
     "execution_count": 142,
     "metadata": {},
     "output_type": "execute_result"
    }
   ],
   "source": [
    "function next_state(tiles, cc, next, recurse=true)\n",
    "    v, s = get(tiles, cc, false), (broadcast(+, cc, o) for o in values(offsets))\n",
    "    surr = count(map(x -> get(tiles, x, false), s))\n",
    "    (v || surr == 2) && (next[cc] = !(v && (surr == 0 || surr > 2)))\n",
    "    for a in (recurse ? s : ()); next_state(tiles, a, next, false) end\n",
    "end\n",
    "\n",
    "function all_next(n)\n",
    "    curr, new = tiles, Dict()\n",
    "    for i in 1:n\n",
    "         for a in keys(curr); next_state(curr, a, new) end\n",
    "         curr, new = new, Dict()\n",
    "    end\n",
    "    curr\n",
    "end"
   ]
  },
  {
   "cell_type": "code",
   "execution_count": 143,
   "metadata": {},
   "outputs": [
    {
     "name": "stdout",
     "output_type": "stream",
     "text": [
      "4078\n",
      "  2.526108 seconds (23.54 M allocations: 845.403 MiB, 4.93% gc time)\n"
     ]
    }
   ],
   "source": [
    "@time all_next(100) |> values |> count |> println"
   ]
  }
 ],
 "metadata": {
  "kernelspec": {
   "display_name": "Julia 1.4.1",
   "language": "julia",
   "name": "julia-1.4"
  },
  "language_info": {
   "file_extension": ".jl",
   "mimetype": "application/julia",
   "name": "julia",
   "version": "1.4.1"
  }
 },
 "nbformat": 4,
 "nbformat_minor": 4
}
