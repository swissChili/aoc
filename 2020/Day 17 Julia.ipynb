{
 "cells": [
  {
   "cell_type": "code",
   "execution_count": 417,
   "metadata": {},
   "outputs": [
    {
     "data": {
      "text/plain": [
       "get_input (generic function with 1 method)"
      ]
     },
     "execution_count": 417,
     "metadata": {},
     "output_type": "execute_result"
    }
   ],
   "source": [
    "using Pipe: @pipe\n",
    "\n",
    "get_input(file) = open(file) do f\n",
    "    flat = @pipe eachline(f) |> collect |> collect.(_)\n",
    "    set = Set()\n",
    "    \n",
    "    for (i, row) in enumerate(flat)\n",
    "        #@show row\n",
    "        for (j, col) in enumerate(row)\n",
    "            #@show col\n",
    "            if col == '#'\n",
    "                push!(set, (j, i, 0))\n",
    "            end\n",
    "        end\n",
    "    end\n",
    "    set\n",
    "end"
   ]
  },
  {
   "cell_type": "code",
   "execution_count": 418,
   "metadata": {},
   "outputs": [
    {
     "data": {
      "text/plain": [
       "Set{Any} with 5 elements:\n",
       "  (2, 3, 0)\n",
       "  (2, 1, 0)\n",
       "  (3, 3, 0)\n",
       "  (1, 3, 0)\n",
       "  (3, 2, 0)"
      ]
     },
     "execution_count": 418,
     "metadata": {},
     "output_type": "execute_result"
    }
   ],
   "source": [
    "initial = get_input(\"17-t.dat\")"
   ]
  },
  {
   "cell_type": "code",
   "execution_count": 419,
   "metadata": {},
   "outputs": [
    {
     "data": {
      "text/plain": [
       "neighbors (generic function with 1 method)"
      ]
     },
     "execution_count": 419,
     "metadata": {},
     "output_type": "execute_result"
    }
   ],
   "source": [
    "function neighbors((x, y, z))\n",
    "    permute = (-1, 0, 1)\n",
    "    possible = Array{Tuple{Int, Int, Int}, 1}()\n",
    "    \n",
    "    for px in permute\n",
    "        for py in permute\n",
    "            for pz in permute\n",
    "                if (px, py, pz) != (x, y, z)\n",
    "                    push!(possible, (x + px, y + py, z + pz))\n",
    "                end\n",
    "            end\n",
    "        end\n",
    "    end\n",
    "    possible\n",
    "end"
   ]
  },
  {
   "cell_type": "code",
   "execution_count": 420,
   "metadata": {},
   "outputs": [
    {
     "data": {
      "text/plain": [
       "26-element Array{Tuple{Int64,Int64,Int64},1}:\n",
       " (0, 0, 0)\n",
       " (0, 0, 1)\n",
       " (0, 0, 2)\n",
       " (0, 1, 0)\n",
       " (0, 1, 1)\n",
       " (0, 1, 2)\n",
       " (0, 2, 0)\n",
       " (0, 2, 1)\n",
       " (0, 2, 2)\n",
       " (1, 0, 0)\n",
       " (1, 0, 1)\n",
       " (1, 0, 2)\n",
       " (1, 1, 0)\n",
       " (1, 1, 1)\n",
       " (1, 1, 2)\n",
       " (1, 2, 0)\n",
       " (1, 2, 1)\n",
       " (1, 2, 2)\n",
       " (2, 0, 0)\n",
       " (2, 0, 1)\n",
       " (2, 0, 2)\n",
       " (2, 1, 0)\n",
       " (2, 1, 1)\n",
       " (2, 1, 2)\n",
       " (2, 2, 0)\n",
       " (2, 2, 1)"
      ]
     },
     "execution_count": 420,
     "metadata": {},
     "output_type": "execute_result"
    }
   ],
   "source": [
    "neighbors((1,1,1))"
   ]
  },
  {
   "cell_type": "code",
   "execution_count": 421,
   "metadata": {},
   "outputs": [
    {
     "data": {
      "text/plain": [
       "next_state (generic function with 1 method)"
      ]
     },
     "execution_count": 421,
     "metadata": {},
     "output_type": "execute_result"
    }
   ],
   "source": [
    "function next_state(last; from=-6, to=8+6)\n",
    "    set = Set(last)\n",
    "    \n",
    "    for x in from:to\n",
    "        for y in from:to\n",
    "            for z in -6:6\n",
    "                active = (x,y,z) in last\n",
    "                n = length([nothing for n in neighbors((x,y,z)) if n in last])\n",
    "                if active && !(n == 2 || n == 3)\n",
    "                    delete!(set, (x,y,z))\n",
    "                elseif !active && n == 3\n",
    "                    push!(set, (x,y,z))\n",
    "                end\n",
    "            end\n",
    "        end\n",
    "    end\n",
    "    \n",
    "    set\n",
    "end"
   ]
  },
  {
   "cell_type": "code",
   "execution_count": 422,
   "metadata": {},
   "outputs": [
    {
     "data": {
      "text/plain": [
       "Set{Any} with 5 elements:\n",
       "  (2, 3, 0)\n",
       "  (2, 1, 0)\n",
       "  (3, 3, 0)\n",
       "  (1, 3, 0)\n",
       "  (3, 2, 0)"
      ]
     },
     "execution_count": 422,
     "metadata": {},
     "output_type": "execute_result"
    }
   ],
   "source": [
    "initial"
   ]
  },
  {
   "cell_type": "code",
   "execution_count": 423,
   "metadata": {},
   "outputs": [
    {
     "data": {
      "text/plain": [
       "Set{Any} with 11 elements:\n",
       "  (2, 4, 0)\n",
       "  (3, 3, 0)\n",
       "  (2, 4, -1)\n",
       "  (1, 2, 1)\n",
       "  (3, 3, 1)\n",
       "  (1, 2, 0)\n",
       "  (1, 2, -1)\n",
       "  (2, 1, 0)\n",
       "  (1, 3, 0)\n",
       "  (2, 4, 1)\n",
       "  (3, 3, -1)"
      ]
     },
     "execution_count": 423,
     "metadata": {},
     "output_type": "execute_result"
    }
   ],
   "source": [
    "n = next_state(initial)"
   ]
  },
  {
   "cell_type": "code",
   "execution_count": 428,
   "metadata": {},
   "outputs": [
    {
     "data": {
      "text/plain": [
       "n_cycles (generic function with 1 method)"
      ]
     },
     "execution_count": 428,
     "metadata": {},
     "output_type": "execute_result"
    }
   ],
   "source": [
    "function n_cycles(n, initial)\n",
    "    prev = initial\n",
    "    for i in 1:n\n",
    "        prev = next_state(prev)\n",
    "    end\n",
    "    prev\n",
    "end"
   ]
  },
  {
   "cell_type": "code",
   "execution_count": 430,
   "metadata": {},
   "outputs": [
    {
     "data": {
      "text/plain": [
       "Set{Any} with 50 elements:\n",
       "  (2, 3, 2)\n",
       "  (1, 1, -2)\n",
       "  (1, 0, 1)\n",
       "  (5, 3, -1)\n",
       "  (2, 6, -1)\n",
       "  (0, 5, 0)\n",
       "  (4, 1, 0)\n",
       "  (1, 4, 2)\n",
       "  (0, 2, 2)\n",
       "  (1, 5, -1)\n",
       "  (2, 6, 1)\n",
       "  (3, 2, 2)\n",
       "  (4, 2, -1)\n",
       "  (-1, 2, -1)\n",
       "  (0, 3, 1)\n",
       "  (3, 5, 0)\n",
       "  (3, 1, 1)\n",
       "  (2, 3, -2)\n",
       "  (-1, 1, 0)\n",
       "  (4, 4, 1)\n",
       "  (4, 4, 0)\n",
       "  (0, 3, 2)\n",
       "  (0, 3, -2)\n",
       "  (1, 4, -2)\n",
       "  (2, 1, 1)\n",
       "  ⋮ "
      ]
     },
     "execution_count": 430,
     "metadata": {},
     "output_type": "execute_result"
    }
   ],
   "source": [
    "@pipe n_cycles(3, initial)"
   ]
  }
 ],
 "metadata": {
  "kernelspec": {
   "display_name": "Julia 1.4.1",
   "language": "julia",
   "name": "julia-1.4"
  },
  "language_info": {
   "file_extension": ".jl",
   "mimetype": "application/julia",
   "name": "julia",
   "version": "1.4.1"
  }
 },
 "nbformat": 4,
 "nbformat_minor": 4
}
