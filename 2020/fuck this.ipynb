{
 "cells": [
  {
   "cell_type": "markdown",
   "metadata": {},
   "source": [
    "Another fuckup in Julia, rewrote in python."
   ]
  },
  {
   "cell_type": "code",
   "execution_count": 80,
   "metadata": {},
   "outputs": [],
   "source": [
    "from collections import defaultdict\n",
    "from copy import deepcopy\n",
    "\n",
    "with open(\"17.dat\", \"r\") as f:\n",
    "    input = [[c for c in x] for x in f.read().split(\"\\n\")]"
   ]
  },
  {
   "cell_type": "code",
   "execution_count": 81,
   "metadata": {},
   "outputs": [
    {
     "data": {
      "text/plain": [
       "[['.', '#', '.'], ['.', '.', '#'], ['#', '#', '#']]"
      ]
     },
     "execution_count": 81,
     "metadata": {},
     "output_type": "execute_result"
    }
   ],
   "source": [
    "input"
   ]
  },
  {
   "cell_type": "code",
   "execution_count": 82,
   "metadata": {},
   "outputs": [
    {
     "data": {
      "text/plain": [
       "defaultdict(<function __main__.<lambda>()>,\n",
       "            {(1, 0, 0, 0): '#',\n",
       "             (2, 1, 0, 0): '#',\n",
       "             (0, 2, 0, 0): '#',\n",
       "             (1, 2, 0, 0): '#',\n",
       "             (2, 2, 0, 0): '#'})"
      ]
     },
     "execution_count": 82,
     "metadata": {},
     "output_type": "execute_result"
    }
   ],
   "source": [
    "d = defaultdict(lambda: '.')\n",
    "\n",
    "d.clear()\n",
    "for rowi, row in enumerate(input):\n",
    "    for coli, col in enumerate(row):\n",
    "        if col == '#':\n",
    "            d[(coli, rowi, 0, 0)] = '#'\n",
    "\n",
    "d"
   ]
  },
  {
   "cell_type": "code",
   "execution_count": 83,
   "metadata": {},
   "outputs": [
    {
     "data": {
      "text/plain": [
       "80"
      ]
     },
     "execution_count": 83,
     "metadata": {},
     "output_type": "execute_result"
    }
   ],
   "source": [
    "def neighbors(x, y, z, w):\n",
    "    for xp in range(-1, 2):\n",
    "        for yp in range(-1, 2):\n",
    "            for zp in range(-1, 2):\n",
    "                for wp in range(-1, 2):\n",
    "                    if not xp == yp == zp == wp == 0:\n",
    "                        yield (x + xp, y + yp, z + zp, w + wp)\n",
    "                \n",
    "len([x for x in neighbors(0,0,0,0)])"
   ]
  },
  {
   "cell_type": "code",
   "execution_count": 84,
   "metadata": {},
   "outputs": [],
   "source": [
    "def next(current):\n",
    "    n = deepcopy(current)\n",
    "    \n",
    "    for x in range(-6, 7+8):\n",
    "        for y in range(-6, 7+8):\n",
    "            for z in range(-6, 7):\n",
    "                for w in range(-6, 7):\n",
    "                    c = current[(x,y,z,w)]\n",
    "                    a = len([current[b] for b in neighbors(x, y, z, w) if current[b] == '#'])\n",
    "                    #print(f\"c = {c} a = {a}\")\n",
    "                    if c == '#' and (not (a == 2 or a == 3)):\n",
    "                        #print(\"# -> .\")\n",
    "                        n[(x,y,z,w)] = '.'\n",
    "                    elif (c == '.') and a == 3:\n",
    "                        #print(\". -> #\")\n",
    "                        n[(x,y,z,w)] = '#'\n",
    "    return n"
   ]
  },
  {
   "cell_type": "code",
   "execution_count": 85,
   "metadata": {},
   "outputs": [],
   "source": [
    "def nth(first, n):\n",
    "    last = first\n",
    "    for i in range(0, n):\n",
    "        last = deepcopy(next(last))\n",
    "    return last\n",
    "\n",
    "def count_active(cells):\n",
    "    return len([True for x in cells.values() if x == '#'])"
   ]
  },
  {
   "cell_type": "code",
   "execution_count": 86,
   "metadata": {},
   "outputs": [
    {
     "data": {
      "text/plain": [
       "848"
      ]
     },
     "execution_count": 86,
     "metadata": {},
     "output_type": "execute_result"
    }
   ],
   "source": [
    "count_active(nth(d, 6))"
   ]
  }
 ],
 "metadata": {
  "kernelspec": {
   "display_name": "Python 3",
   "language": "python",
   "name": "python3"
  },
  "language_info": {
   "codemirror_mode": {
    "name": "ipython",
    "version": 3
   },
   "file_extension": ".py",
   "mimetype": "text/x-python",
   "name": "python",
   "nbconvert_exporter": "python",
   "pygments_lexer": "ipython3",
   "version": "3.8.5"
  }
 },
 "nbformat": 4,
 "nbformat_minor": 4
}
